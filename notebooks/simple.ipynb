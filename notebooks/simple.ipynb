{
 "cells": [
  {
   "cell_type": "markdown",
   "id": "fd69e3c1-471d-43b7-a383-10563ec88fd4",
   "metadata": {},
   "source": [
    "# Imports"
   ]
  },
  {
   "cell_type": "code",
   "execution_count": 9,
   "id": "f45979f6-1122-42ec-888a-4a1d3a236597",
   "metadata": {},
   "outputs": [
    {
     "name": "stderr",
     "output_type": "stream",
     "text": [
      "[nltk_data] Downloading package punkt to /home/and/nltk_data...\n",
      "[nltk_data]   Package punkt is already up-to-date!\n"
     ]
    },
    {
     "data": {
      "text/plain": [
       "True"
      ]
     },
     "execution_count": 9,
     "metadata": {},
     "output_type": "execute_result"
    }
   ],
   "source": [
    "import torch\n",
    "import torch.nn as nn\n",
    "import torch.optim as optim\n",
    "from torch.utils.data import Dataset, DataLoader\n",
    "import pandas as pd\n",
    "import numpy as np\n",
    "import nltk\n",
    "from nltk.tokenize import word_tokenize\n",
    "from sklearn.model_selection import train_test_split\n",
    "from sklearn.preprocessing import LabelEncoder\n",
    "from sklearn.metrics import accuracy_score\n",
    "from xlstm import (\n",
    "    xLSTMBlockStack,\n",
    "    xLSTMBlockStackConfig,\n",
    "    mLSTMBlockConfig,\n",
    "    mLSTMLayerConfig,\n",
    "    sLSTMBlockConfig,\n",
    "    sLSTMLayerConfig,\n",
    "    FeedForwardConfig,\n",
    ")\n",
    "import matplotlib.pyplot as plt\n",
    "from tqdm import tqdm\n",
    "from sklearn.metrics import accuracy_score, precision_score, recall_score, f1_score, confusion_matrix\n",
    "import seaborn as sns\n",
    "\n",
    "nltk.download('punkt')"
   ]
  },
  {
   "cell_type": "code",
   "execution_count": 10,
   "id": "79a2b347-564a-41a7-b5f0-599f9b7dc330",
   "metadata": {},
   "outputs": [
    {
     "name": "stdout",
     "output_type": "stream",
     "text": [
      "CUDA available True\n",
      "CUDA version 12.1\n",
      "cuDNN enabled True\n",
      "cuDNN version 90100\n",
      "Device 0 name: NVIDIA GeForce RTX 4070 Laptop GPU\n"
     ]
    }
   ],
   "source": [
    "print('CUDA available', torch.cuda.is_available())\n",
    "print('CUDA version', torch.version.cuda)\n",
    "print('cuDNN enabled', torch.backends.cudnn.enabled)\n",
    "print('cuDNN version', torch.backends.cudnn.version())\n",
    "\n",
    "n_cuda_devices = torch.cuda.device_count()\n",
    "for i in range(n_cuda_devices):\n",
    "    print(f'Device {i} name:', torch.cuda.get_device_name(i))"
   ]
  },
  {
   "cell_type": "markdown",
   "id": "2ea4a9bb-27f8-4294-a07a-d4674f8b7d28",
   "metadata": {},
   "source": [
    "# Data prep"
   ]
  },
  {
   "cell_type": "code",
   "execution_count": 4,
   "id": "619bb8ac-3ef6-44da-a63a-7ec4aa27e450",
   "metadata": {},
   "outputs": [],
   "source": [
    "path_to_dataset = \"../datasets/HateSpeechDatasetBalanced.csv\"\n",
    "df = pd.read_csv(path_to_dataset)\n",
    "df = df.sample(frac=0.05, random_state=42)  # Використання частини даних для швидкості\n",
    "df = df[['Content', 'Label']]"
   ]
  },
  {
   "cell_type": "code",
   "execution_count": 5,
   "id": "83638b1c-18c4-4416-8833-29962319c7cb",
   "metadata": {},
   "outputs": [
    {
     "data": {
      "text/plain": [
       "Content    36306\n",
       "Label      36306\n",
       "dtype: int64"
      ]
     },
     "execution_count": 5,
     "metadata": {},
     "output_type": "execute_result"
    }
   ],
   "source": [
    "df.count()"
   ]
  },
  {
   "cell_type": "code",
   "execution_count": 6,
   "id": "3fd433bc-cd31-4668-ae18-8eda3b4894a3",
   "metadata": {},
   "outputs": [],
   "source": [
    "def preprocess(text):\n",
    "    return word_tokenize(text.lower())"
   ]
  },
  {
   "cell_type": "code",
   "execution_count": 7,
   "id": "5814e05a-48aa-41b6-887c-8a5842e8d041",
   "metadata": {},
   "outputs": [],
   "source": [
    "def preprocess(text):\n",
    "    return word_tokenize(text.lower())\n",
    "    \n",
    "df['Content'] = df['Content'].apply(preprocess)\n",
    "# Розділення на тренувальну та тестову вибірки\n",
    "train_df, test_df = train_test_split(df, test_size=0.2, random_state=42)\n",
    "\n",
    "# Побудова словника\n",
    "all_words = [word for tweet in train_df['Content'] for word in tweet]\n",
    "vocab = sorted(set(all_words))\n",
    "word_to_idx = {word: idx+1 for idx, word in enumerate(vocab)}\n",
    "vocab_size = len(vocab) + 1  # +1 для padding\n",
    "\n",
    "# Кодування твітів\n",
    "def encode_tweet(tweet):\n",
    "    return [word_to_idx[word] for word in tweet if word in word_to_idx]\n",
    "\n",
    "train_df['Content'] = train_df['Content'].apply(encode_tweet)\n",
    "test_df['Content'] = test_df['Content'].apply(encode_tweet)\n",
    "\n",
    "# Додавання padding\n",
    "def pad_sequences(sequences, max_len):\n",
    "    return np.array([seq + [0]*(max_len-len(seq)) if len(seq) < max_len else seq[:max_len] for seq in sequences])\n",
    "\n",
    "MAX_LEN = 100\n",
    "X_train = pad_sequences(train_df['Content'], MAX_LEN)\n",
    "X_test = pad_sequences(test_df['Content'], MAX_LEN)\n",
    "\n",
    "# Кодування міток\n",
    "le = LabelEncoder()\n",
    "y_train = le.fit_transform(train_df['Label'])\n",
    "y_test = le.transform(test_df['Label'])\n",
    "\n",
    "# Створення датасетів та DataLoader\n",
    "class HateSpeechDataset(Dataset):\n",
    "    def __init__(self, tweets, labels):\n",
    "        self.tweets = tweets\n",
    "        self.labels = labels\n",
    "\n",
    "    def __len__(self):\n",
    "        return len(self.tweets)\n",
    "\n",
    "    def __getitem__(self, idx):\n",
    "        return torch.tensor(self.tweets[idx], dtype=torch.long), torch.tensor(self.labels[idx], dtype=torch.long)\n",
    "\n",
    "train_dataset = HateSpeechDataset(X_train, y_train)\n",
    "test_dataset = HateSpeechDataset(X_test, y_test)\n",
    "\n",
    "train_loader = DataLoader(train_dataset, batch_size=64, shuffle=True)\n",
    "test_loader = DataLoader(test_dataset, batch_size=64)"
   ]
  },
  {
   "cell_type": "code",
   "execution_count": 8,
   "id": "88a69b74-5881-4c4f-b6e8-1bf74e553e04",
   "metadata": {},
   "outputs": [],
   "source": [
    "# Функція для валідації моделі\n",
    "def validate_model(model, test_loader, criterion):\n",
    "    model.eval()\n",
    "    total_loss, correct, total = 0, 0, 0\n",
    "    with torch.no_grad():\n",
    "        for tweets, labels in test_loader:\n",
    "            tweets, labels = tweets.to(\"cuda\"), labels.to(\"cuda\")\n",
    "            outputs = model(tweets)\n",
    "            loss = criterion(outputs, labels)\n",
    "            total_loss += loss.item()\n",
    "            _, predicted = torch.max(outputs, 1)\n",
    "            correct += (predicted == labels).sum().item()\n",
    "            total += labels.size(0)\n",
    "    avg_loss = total_loss / len(test_loader)\n",
    "    accuracy = correct / total\n",
    "    return avg_loss, accuracy\n",
    "\n",
    "# Функція для раннього зупинення\n",
    "def early_stopping(val_losses, patience=3):\n",
    "    if len(val_losses) < patience + 1:\n",
    "        return False\n",
    "    for i in range(1, patience + 1):\n",
    "        if val_losses[-i] < val_losses[-i - 1]:\n",
    "            return False\n",
    "    return True\n",
    "\n",
    "# Функція для тестування моделі з виведенням матриці неточностей\n",
    "def test_model_with_report_and_confusion_matrix(model, test_loader, model_name='model'):\n",
    "    model.eval()\n",
    "    all_preds = []\n",
    "    all_labels = []\n",
    "    with torch.no_grad():\n",
    "        for tweets, labels in tqdm(test_loader, desc='Testing'):\n",
    "            tweets, labels = tweets.to(\"cuda\"), labels.to(\"cuda\")\n",
    "            outputs = model(tweets)\n",
    "            _, preds = torch.max(outputs, 1)\n",
    "            all_preds.extend(preds.cpu().tolist())\n",
    "            all_labels.extend(labels.cpu().tolist())\n",
    "\n",
    "    print(\"Classification Report:\")\n",
    "    print(classification_report(all_labels, all_preds, target_names=[\"Non-Hate\", \"Hate\"]))\n",
    "\n",
    "    cm = confusion_matrix(all_labels, all_preds)\n",
    "    disp = ConfusionMatrixDisplay(confusion_matrix=cm, display_labels=[\"Non-Hate\", \"Hate\"])\n",
    "    disp.plot(cmap=plt.cm.Blues)\n",
    "    plt.title(f\"Confusion Matrix - {model_name}\")\n",
    "    plt.savefig(f\"../models/{model_name}_confusion_matrix.png\")\n",
    "    plt.show()\n",
    "\n",
    "# Візуалізація графіків втрат і точності\n",
    "def plot_metrics(train_losses, val_losses, train_accuracies, val_accuracies, model_name='model'):\n",
    "    plt.figure(figsize=(12, 5))\n",
    "    plt.subplot(1, 2, 1)\n",
    "    plt.plot(train_losses, label='Training Loss')\n",
    "    plt.plot(val_losses, label='Validation Loss')\n",
    "    plt.xlabel('Epoch')\n",
    "    plt.ylabel('Loss')\n",
    "    plt.title('Loss over Epochs')\n",
    "    plt.legend()\n",
    "\n",
    "    plt.subplot(1, 2, 2)\n",
    "    plt.plot(train_accuracies, label='Training Accuracy')\n",
    "    plt.plot(val_accuracies, label='Validation Accuracy')\n",
    "    plt.xlabel('Epoch')\n",
    "    plt.ylabel('Accuracy')\n",
    "    plt.title('Accuracy over Epochs')\n",
    "    plt.legend()\n",
    "\n",
    "    plt.tight_layout()\n",
    "    plt.savefig(f\"../models/{model_name}_metrics.png\")\n",
    "    plt.show()\n",
    "\n",
    "def test_model(model, test_loader):\n",
    "    model.eval()\n",
    "    all_preds = []\n",
    "    with torch.no_grad():\n",
    "        # Додаємо прогрес-бар для тестування\n",
    "        for tweets, labels in tqdm(test_loader, desc='Testing'):\n",
    "            tweets, labels = tweets.to(\"cuda\"), labels.to(\"cuda\")\n",
    "            outputs = model(tweets)\n",
    "            _, preds = torch.max(outputs, 1)\n",
    "            all_preds.extend(preds.cpu().tolist())  # Використовуємо .tolist() замість numpy\n",
    "    return all_preds"
   ]
  },
  {
   "cell_type": "markdown",
   "id": "f512a276-e4b6-4f51-acfd-223860111acf",
   "metadata": {},
   "source": [
    "# Exp 1"
   ]
  },
  {
   "cell_type": "code",
   "execution_count": 11,
   "id": "4e167b8d-dc9e-4144-b219-85e61c4c945b",
   "metadata": {},
   "outputs": [],
   "source": [
    "# Define LSTM Model\n",
    "class HateSpeechLSTM(nn.Module):\n",
    "    def __init__(self, vocab_size, embedding_dim=100, hidden_dim=128, output_dim=1):\n",
    "        super(HateSpeechLSTM, self).__init__()\n",
    "        self.embedding = nn.Embedding(vocab_size, embedding_dim)\n",
    "        self.lstm = nn.LSTM(embedding_dim, hidden_dim, batch_first=True)\n",
    "        self.fc = nn.Linear(hidden_dim, output_dim)\n",
    "        self.sigmoid = nn.Sigmoid()\n",
    "\n",
    "    def forward(self, x):\n",
    "        x = self.embedding(x)\n",
    "        _, (hidden, _) = self.lstm(x)\n",
    "        out = self.fc(hidden[-1])\n",
    "        return self.sigmoid(out)\n",
    "\n",
    "# Model setup\n",
    "vocab_size = len(word_to_idx) + 1  # Ensure padding token is included\n",
    "model = HateSpeechLSTM(vocab_size)\n",
    "\n",
    "# Training setup\n",
    "criterion = nn.BCELoss()\n",
    "optimizer = optim.Adam(model.parameters(), lr=0.001)\n",
    "num_epochs = 10\n",
    "train_losses, val_losses = [], []"
   ]
  },
  {
   "cell_type": "code",
   "execution_count": 12,
   "id": "4db844d0-9335-4f33-b116-8fe919eb8f98",
   "metadata": {},
   "outputs": [
    {
     "name": "stdout",
     "output_type": "stream",
     "text": [
      "Epoch 1/10 - Loss: 0.6757, Val Loss: 0.6620, Accuracy: 0.6029, Precision: 0.5894, Recall: 0.7222, F1 Score: 0.6491\n",
      "Epoch 2/10 - Loss: 0.6023, Val Loss: 0.5360, Accuracy: 0.7381, Precision: 0.7050, Recall: 0.8340, F1 Score: 0.7641\n",
      "Epoch 3/10 - Loss: 0.4714, Val Loss: 0.4755, Accuracy: 0.7769, Precision: 0.7525, Recall: 0.8364, F1 Score: 0.7923\n",
      "Epoch 4/10 - Loss: 0.3786, Val Loss: 0.4591, Accuracy: 0.7930, Precision: 0.7831, Recall: 0.8202, F1 Score: 0.8012\n",
      "Epoch 5/10 - Loss: 0.3084, Val Loss: 0.4580, Accuracy: 0.7952, Precision: 0.7713, Recall: 0.8492, F1 Score: 0.8084\n",
      "Epoch 6/10 - Loss: 0.2453, Val Loss: 0.5068, Accuracy: 0.7974, Precision: 0.7760, Recall: 0.8459, F1 Score: 0.8094\n",
      "Epoch 7/10 - Loss: 0.1924, Val Loss: 0.5292, Accuracy: 0.7915, Precision: 0.7853, Recall: 0.8121, F1 Score: 0.7985\n",
      "Epoch 8/10 - Loss: 0.1551, Val Loss: 0.6427, Accuracy: 0.7806, Precision: 0.8107, Recall: 0.7419, F1 Score: 0.7748\n",
      "Epoch 9/10 - Loss: 0.1649, Val Loss: 0.6028, Accuracy: 0.7888, Precision: 0.7858, Recall: 0.8037, F1 Score: 0.7946\n",
      "Epoch 10/10 - Loss: 0.1164, Val Loss: 0.6853, Accuracy: 0.7879, Precision: 0.7745, Recall: 0.8224, F1 Score: 0.7977\n"
     ]
    }
   ],
   "source": [
    "# Training and Evaluation\n",
    "for epoch in range(num_epochs):\n",
    "    model.train()\n",
    "    epoch_train_loss = 0\n",
    "    for tweets, labels in train_loader:\n",
    "        labels = labels.float().unsqueeze(1)\n",
    "        optimizer.zero_grad()\n",
    "        outputs = model(tweets)\n",
    "        loss = criterion(outputs, labels)\n",
    "        loss.backward()\n",
    "        optimizer.step()\n",
    "        epoch_train_loss += loss.item()\n",
    "    \n",
    "    # Validation phase\n",
    "    model.eval()\n",
    "    epoch_val_loss = 0\n",
    "    y_true, y_pred = [], []\n",
    "    with torch.no_grad():\n",
    "        for tweets, labels in test_loader:\n",
    "            labels = labels.float().unsqueeze(1)\n",
    "            outputs = model(tweets)\n",
    "            loss = criterion(outputs, labels)\n",
    "            epoch_val_loss += loss.item()\n",
    "            y_true.extend(labels.cpu().numpy())\n",
    "            y_pred.extend((outputs.cpu().numpy() > 0.5).astype(int))\n",
    "\n",
    "    # Calculate average loss\n",
    "    avg_train_loss = epoch_train_loss / len(train_loader)\n",
    "    avg_val_loss = epoch_val_loss / len(test_loader)\n",
    "    train_losses.append(avg_train_loss)\n",
    "    val_losses.append(avg_val_loss)\n",
    "\n",
    "    # Monitoring\n",
    "    accuracy = accuracy_score(y_true, y_pred)\n",
    "    precision = precision_score(y_true, y_pred)\n",
    "    recall = recall_score(y_true, y_pred)\n",
    "    f1 = f1_score(y_true, y_pred)\n",
    "    print(f\"Epoch {epoch+1}/{num_epochs} - Loss: {avg_train_loss:.4f}, Val Loss: {avg_val_loss:.4f}, \"\n",
    "          f\"Accuracy: {accuracy:.4f}, Precision: {precision:.4f}, Recall: {recall:.4f}, F1 Score: {f1:.4f}\")"
   ]
  },
  {
   "cell_type": "code",
   "execution_count": 13,
   "id": "7440c85a-f506-4e90-b525-2812637cd706",
   "metadata": {},
   "outputs": [
    {
     "data": {
      "image/png": "[encoded data removed]",
      "text/plain": [
       "<Figure size 640x480 with 1 Axes>"
      ]
     },
     "metadata": {},
     "output_type": "display_data"
    }
   ],
   "source": [
    "# Plot training and validation loss\n",
    "plt.figure()\n",
    "plt.plot(train_losses, label='Training Loss')\n",
    "plt.plot(val_losses, label='Validation Loss')\n",
    "plt.xlabel('Epoch')\n",
    "plt.ylabel('Loss')\n",
    "plt.legend()\n",
    "plt.title('Training and Validation Loss')\n",
    "plt.show()"
   ]
  },
  {
   "cell_type": "code",
   "execution_count": 14,
   "id": "58c70d0b-b283-4c1a-9a4c-afa511013873",
   "metadata": {},
   "outputs": [],
   "source": [
    "# Evaluation on the test set\n",
    "model.eval()\n",
    "y_true, y_pred = [], []\n",
    "with torch.no_grad():\n",
    "    for tweets, labels in test_loader:\n",
    "        labels = labels.float().unsqueeze(1)\n",
    "        outputs = model(tweets)\n",
    "        y_true.extend(labels.cpu().numpy())\n",
    "        y_pred.extend((outputs.cpu().numpy() > 0.5).astype(int))"
   ]
  },
  {
   "cell_type": "code",
   "execution_count": 15,
   "id": "b55ca508-e39d-4b20-9e96-ea8eb7c7a4a6",
   "metadata": {},
   "outputs": [
    {
     "name": "stdout",
     "output_type": "stream",
     "text": [
      "Test Accuracy: 0.7879\n",
      "Test Precision: 0.7745\n",
      "Test Recall: 0.8224\n",
      "Test F1 Score: 0.7977\n"
     ]
    }
   ],
   "source": [
    "# Metrics\n",
    "accuracy = accuracy_score(y_true, y_pred)\n",
    "precision = precision_score(y_true, y_pred)\n",
    "recall = recall_score(y_true, y_pred)\n",
    "f1 = f1_score(y_true, y_pred)\n",
    "\n",
    "print(f\"Test Accuracy: {accuracy:.4f}\")\n",
    "print(f\"Test Precision: {precision:.4f}\")\n",
    "print(f\"Test Recall: {recall:.4f}\")\n",
    "print(f\"Test F1 Score: {f1:.4f}\")"
   ]
  },
  {
   "cell_type": "code",
   "execution_count": 16,
   "id": "ef7c9892-7e0a-4cd1-9613-b9ac0afaaf53",
   "metadata": {},
   "outputs": [
    {
     "data": {
      "image/png": "[encoded data removed]",
      "text/plain": [
       "<Figure size 600x500 with 2 Axes>"
      ]
     },
     "metadata": {},
     "output_type": "display_data"
    }
   ],
   "source": [
    "# Confusion Matrix\n",
    "conf_matrix = confusion_matrix(y_true, y_pred)\n",
    "plt.figure(figsize=(6, 5))\n",
    "sns.heatmap(conf_matrix, annot=True, fmt=\"d\", cmap=\"Blues\", xticklabels=['Not Hate Speech', 'Hate Speech'], \n",
    "            yticklabels=['Not Hate Speech', 'Hate Speech'])\n",
    "plt.xlabel('Predicted Label')\n",
    "plt.ylabel('True Label')\n",
    "plt.title('Confusion Matrix')\n",
    "plt.show()"
   ]
  },
  {
   "cell_type": "code",
   "execution_count": null,
   "id": "bc8752ea-19e1-4c0a-912d-86b262a22253",
   "metadata": {},
   "outputs": [],
   "source": []
  },
  {
   "cell_type": "code",
   "execution_count": null,
   "id": "b51bf9a4-44e0-4496-9681-30d9f23f84b8",
   "metadata": {},
   "outputs": [],
   "source": []
  },
  {
   "cell_type": "code",
   "execution_count": null,
   "id": "aeea0106-625e-4ca4-b866-c068497b620a",
   "metadata": {},
   "outputs": [],
   "source": []
  },
  {
   "cell_type": "code",
   "execution_count": null,
   "id": "25843a71-7f5b-40f1-8a8d-877e92f56574",
   "metadata": {},
   "outputs": [],
   "source": []
  },
  {
   "cell_type": "markdown",
   "id": "5615fa7d-20a0-4c3a-bf82-20d533c4a173",
   "metadata": {},
   "source": [
    "# Exp 2"
   ]
  },
  {
   "cell_type": "code",
   "execution_count": 67,
   "id": "58e0ffcb-fa77-4718-bd81-48d3952af2fd",
   "metadata": {},
   "outputs": [],
   "source": [
    "# Define CNN Model for Hate Speech Detection\n",
    "class HateSpeechCNN(nn.Module):\n",
    "    def __init__(self, vocab_size, embedding_dim=100, num_filters=100, filter_sizes=[3, 4, 5], output_dim=1, dropout=0.5):\n",
    "        super(HateSpeechCNN, self).__init__()\n",
    "        self.embedding = nn.Embedding(vocab_size, embedding_dim)\n",
    "        \n",
    "        # Convolutional layers for different filter sizes\n",
    "        self.convs = nn.ModuleList([\n",
    "            nn.Conv2d(in_channels=1, out_channels=num_filters, kernel_size=(fs, embedding_dim))\n",
    "            for fs in filter_sizes\n",
    "        ])\n",
    "        \n",
    "        self.fc = nn.Linear(len(filter_sizes) * num_filters, output_dim)\n",
    "        self.dropout = nn.Dropout(dropout)\n",
    "        self.sigmoid = nn.Sigmoid()\n",
    "\n",
    "    def forward(self, x):\n",
    "        x = self.embedding(x)  # [batch_size, sent_len, emb_dim]\n",
    "        x = x.unsqueeze(1)  # [batch_size, 1, sent_len, emb_dim]\n",
    "        \n",
    "        # Apply convolution and pooling\n",
    "        conved = [torch.relu(conv(x)).squeeze(3) for conv in self.convs]\n",
    "        pooled = [torch.max(conv, dim=2)[0] for conv in conved]\n",
    "        \n",
    "        # Concatenate pooled outputs\n",
    "        cat = self.dropout(torch.cat(pooled, dim=1))\n",
    "        return self.sigmoid(self.fc(cat))\n",
    "\n",
    "# Model setup\n",
    "vocab_size = len(word_to_idx) + 1\n",
    "model = HateSpeechCNN(vocab_size)\n",
    "\n",
    "# Training setup\n",
    "criterion = nn.BCELoss()\n",
    "optimizer = optim.Adam(model.parameters(), lr=0.001)\n",
    "num_epochs = 10\n",
    "train_losses, val_losses = [], []\n"
   ]
  },
  {
   "cell_type": "code",
   "execution_count": 68,
   "id": "d8ad8a6d-6751-476f-8d18-06247f29eac9",
   "metadata": {},
   "outputs": [
    {
     "name": "stderr",
     "output_type": "stream",
     "text": [
      "                                                                                                                                                                                                                                                    \r"
     ]
    },
    {
     "name": "stdout",
     "output_type": "stream",
     "text": [
      "Epoch 1/10 - Train Loss: 0.2339, Val Loss: 0.1781, Accuracy: 0.9394, Precision: 0.9417, Recall: 0.9972, F1 Score: 0.9686\n"
     ]
    },
    {
     "name": "stderr",
     "output_type": "stream",
     "text": [
      "                                                                                                                                                                                                                                                    \r"
     ]
    },
    {
     "name": "stdout",
     "output_type": "stream",
     "text": [
      "Epoch 2/10 - Train Loss: 0.1831, Val Loss: 0.1717, Accuracy: 0.9399, Precision: 0.9456, Recall: 0.9930, F1 Score: 0.9688\n"
     ]
    },
    {
     "name": "stderr",
     "output_type": "stream",
     "text": [
      "                                                                                                                                                                                                                                                    \r"
     ]
    },
    {
     "name": "stdout",
     "output_type": "stream",
     "text": [
      "Epoch 3/10 - Train Loss: 0.1559, Val Loss: 0.1724, Accuracy: 0.9370, Precision: 0.9499, Recall: 0.9848, F1 Score: 0.9670\n"
     ]
    },
    {
     "name": "stderr",
     "output_type": "stream",
     "text": [
      "                                                                                                                                                                                                                                                    \r"
     ]
    },
    {
     "name": "stdout",
     "output_type": "stream",
     "text": [
      "Epoch 4/10 - Train Loss: 0.1279, Val Loss: 0.1814, Accuracy: 0.9362, Precision: 0.9526, Recall: 0.9809, F1 Score: 0.9665\n"
     ]
    },
    {
     "name": "stderr",
     "output_type": "stream",
     "text": [
      "                                                                                                                                                                                                                                                    \r"
     ]
    },
    {
     "name": "stdout",
     "output_type": "stream",
     "text": [
      "Epoch 5/10 - Train Loss: 0.1049, Val Loss: 0.1953, Accuracy: 0.9357, Precision: 0.9483, Recall: 0.9853, F1 Score: 0.9664\n"
     ]
    },
    {
     "name": "stderr",
     "output_type": "stream",
     "text": [
      "                                                                                                                                                                                                                                                    \r"
     ]
    },
    {
     "name": "stdout",
     "output_type": "stream",
     "text": [
      "Epoch 6/10 - Train Loss: 0.0811, Val Loss: 0.2120, Accuracy: 0.9365, Precision: 0.9524, Recall: 0.9814, F1 Score: 0.9667\n"
     ]
    },
    {
     "name": "stderr",
     "output_type": "stream",
     "text": [
      "                                                                                                                                                                                                                                                    \r"
     ]
    },
    {
     "name": "stdout",
     "output_type": "stream",
     "text": [
      "Epoch 7/10 - Train Loss: 0.0651, Val Loss: 0.2163, Accuracy: 0.9343, Precision: 0.9525, Recall: 0.9788, F1 Score: 0.9655\n"
     ]
    },
    {
     "name": "stderr",
     "output_type": "stream",
     "text": [
      "                                                                                                                                                                                                                                                    \r"
     ]
    },
    {
     "name": "stdout",
     "output_type": "stream",
     "text": [
      "Epoch 8/10 - Train Loss: 0.0481, Val Loss: 0.2253, Accuracy: 0.9328, Precision: 0.9556, Recall: 0.9737, F1 Score: 0.9646\n"
     ]
    },
    {
     "name": "stderr",
     "output_type": "stream",
     "text": [
      "                                                                                                                                                                                                                                                    \r"
     ]
    },
    {
     "name": "stdout",
     "output_type": "stream",
     "text": [
      "Epoch 9/10 - Train Loss: 0.0381, Val Loss: 0.2850, Accuracy: 0.9382, Precision: 0.9493, Recall: 0.9868, F1 Score: 0.9677\n"
     ]
    },
    {
     "name": "stderr",
     "output_type": "stream",
     "text": [
      "                                                                                                                                                                                                                                                    \r"
     ]
    },
    {
     "name": "stdout",
     "output_type": "stream",
     "text": [
      "Epoch 10/10 - Train Loss: 0.0293, Val Loss: 0.3063, Accuracy: 0.9372, Precision: 0.9515, Recall: 0.9832, F1 Score: 0.9671\n"
     ]
    }
   ],
   "source": [
    "# Training and Evaluation with Progress Bar\n",
    "for epoch in range(num_epochs):\n",
    "    model.train()\n",
    "    epoch_train_loss = 0\n",
    "    train_loader_tqdm = tqdm(train_loader, desc=f\"Epoch {epoch+1}/{num_epochs}\", leave=False)\n",
    "    \n",
    "    for tweets, labels in train_loader_tqdm:\n",
    "        labels = labels.float().unsqueeze(1)\n",
    "        optimizer.zero_grad()\n",
    "        outputs = model(tweets)\n",
    "        loss = criterion(outputs, labels)\n",
    "        loss.backward()\n",
    "        optimizer.step()\n",
    "        \n",
    "        epoch_train_loss += loss.item()\n",
    "        train_loader_tqdm.set_postfix(loss=loss.item())\n",
    "    \n",
    "    # Validation phase\n",
    "    model.eval()\n",
    "    epoch_val_loss = 0\n",
    "    y_true, y_pred = [], []\n",
    "    \n",
    "    with torch.no_grad():\n",
    "        for tweets, labels in test_loader:\n",
    "            labels = labels.float().unsqueeze(1)\n",
    "            outputs = model(tweets)\n",
    "            loss = criterion(outputs, labels)\n",
    "            epoch_val_loss += loss.item()\n",
    "            y_true.extend(labels.cpu().numpy())\n",
    "            y_pred.extend((outputs.cpu().numpy() > 0.5).astype(int))\n",
    "\n",
    "    # Calculate average loss and metrics\n",
    "    avg_train_loss = epoch_train_loss / len(train_loader)\n",
    "    avg_val_loss = epoch_val_loss / len(test_loader)\n",
    "    train_losses.append(avg_train_loss)\n",
    "    val_losses.append(avg_val_loss)\n",
    "\n",
    "    accuracy = accuracy_score(y_true, y_pred)\n",
    "    precision = precision_score(y_true, y_pred)\n",
    "    recall = recall_score(y_true, y_pred)\n",
    "    f1 = f1_score(y_true, y_pred)\n",
    "\n",
    "    # Print epoch results\n",
    "    print(f\"Epoch {epoch+1}/{num_epochs} - Train Loss: {avg_train_loss:.4f}, Val Loss: {avg_val_loss:.4f}, \"\n",
    "          f\"Accuracy: {accuracy:.4f}, Precision: {precision:.4f}, Recall: {recall:.4f}, F1 Score: {f1:.4f}\")"
   ]
  },
  {
   "cell_type": "code",
   "execution_count": 70,
   "id": "8e4db9a2-1594-4fed-acb6-65a51c777b28",
   "metadata": {},
   "outputs": [
    {
     "name": "stdout",
     "output_type": "stream",
     "text": [
      "Test Accuracy: 0.9372\n",
      "Test Precision: 0.9515\n",
      "Test Recall: 0.9832\n",
      "Test F1 Score: 0.9671\n"
     ]
    }
   ],
   "source": [
    "# Evaluation on the test set\n",
    "model.eval()\n",
    "y_true, y_pred = [], []\n",
    "with torch.no_grad():\n",
    "    for tweets, labels in test_loader:\n",
    "        labels = labels.float().unsqueeze(1)\n",
    "        outputs = model(tweets)\n",
    "        y_true.extend(labels.cpu().numpy())\n",
    "        y_pred.extend((outputs.cpu().numpy() > 0.5).astype(int))\n",
    "\n",
    "# Metrics\n",
    "accuracy = accuracy_score(y_true, y_pred)\n",
    "precision = precision_score(y_true, y_pred)\n",
    "recall = recall_score(y_true, y_pred)\n",
    "f1 = f1_score(y_true, y_pred)\n",
    "\n",
    "print(f\"Test Accuracy: {accuracy:.4f}\")\n",
    "print(f\"Test Precision: {precision:.4f}\")\n",
    "print(f\"Test Recall: {recall:.4f}\")\n",
    "print(f\"Test F1 Score: {f1:.4f}\")"
   ]
  },
  {
   "cell_type": "code",
   "execution_count": 71,
   "id": "8dff7c19-2ae4-4cb9-89ec-1b2a9329153c",
   "metadata": {},
   "outputs": [
    {
     "data": {
      "image/png": "[encoded data removed]",
      "text/plain": [
       "<Figure size 640x480 with 1 Axes>"
      ]
     },
     "metadata": {},
     "output_type": "display_data"
    }
   ],
   "source": [
    "# Plot training and validation loss\n",
    "plt.figure()\n",
    "plt.plot(train_losses, label='Training Loss')\n",
    "plt.plot(val_losses, label='Validation Loss')\n",
    "plt.xlabel('Epoch')\n",
    "plt.ylabel('Loss')\n",
    "plt.legend()\n",
    "plt.title('Training and Validation Loss')\n",
    "plt.show()"
   ]
  },
  {
   "cell_type": "code",
   "execution_count": 72,
   "id": "84c948d8-4cdb-42a0-8dc9-12c6f82cb151",
   "metadata": {},
   "outputs": [
    {
     "data": {
      "image/png": "[encoded data removed]",
      "text/plain": [
       "<Figure size 600x500 with 2 Axes>"
      ]
     },
     "metadata": {},
     "output_type": "display_data"
    }
   ],
   "source": [
    "# Confusion Matrix\n",
    "conf_matrix = confusion_matrix(y_true, y_pred)\n",
    "plt.figure(figsize=(6, 5))\n",
    "sns.heatmap(conf_matrix, annot=True, fmt=\"d\", cmap=\"Blues\", xticklabels=['Not Hate Speech', 'Hate Speech'], \n",
    "            yticklabels=['Not Hate Speech', 'Hate Speech'])\n",
    "plt.xlabel('Predicted Label')\n",
    "plt.ylabel('True Label')\n",
    "plt.title('Confusion Matrix')\n",
    "plt.show()"
   ]
  },
  {
   "cell_type": "code",
   "execution_count": null,
   "id": "fc3dd6d7-f255-4735-9b00-d12cb193b840",
   "metadata": {},
   "outputs": [],
   "source": []
  },
  {
   "cell_type": "code",
   "execution_count": null,
   "id": "5c83d0e3-4d86-4e94-a328-c8db4f2c8273",
   "metadata": {},
   "outputs": [],
   "source": []
  },
  {
   "cell_type": "code",
   "execution_count": null,
   "id": "7954b052-f293-4a20-bb47-93a98857fbee",
   "metadata": {},
   "outputs": [],
   "source": []
  },
  {
   "cell_type": "code",
   "execution_count": null,
   "id": "7b098f15-4fad-4288-b722-42d42305fe9b",
   "metadata": {},
   "outputs": [],
   "source": []
  },
  {
   "cell_type": "markdown",
   "id": "b052579f-8853-451b-94d3-5a85a7dcf464",
   "metadata": {},
   "source": [
    "# Exp 3"
   ]
  },
  {
   "cell_type": "code",
   "execution_count": 73,
   "id": "88603308-da47-49ae-a3c7-7a66dfd310bd",
   "metadata": {},
   "outputs": [],
   "source": [
    "path_to_dataset = \"../datasets/FinalBalancedDataset.csv\"\n",
    "df = pd.read_csv(path_to_dataset)"
   ]
  },
  {
   "cell_type": "code",
   "execution_count": 74,
   "id": "5d2b1d88-46a2-46c4-aaf8-d7573baebc12",
   "metadata": {},
   "outputs": [
    {
     "data": {
      "text/plain": [
       "Unnamed: 0    56745\n",
       "Toxicity      56745\n",
       "tweet         56745\n",
       "dtype: int64"
      ]
     },
     "execution_count": 74,
     "metadata": {},
     "output_type": "execute_result"
    }
   ],
   "source": [
    "df.count()"
   ]
  },
  {
   "cell_type": "code",
   "execution_count": 76,
   "id": "ce99df5d-3052-44e6-bd53-1f7038ab80ed",
   "metadata": {},
   "outputs": [
    {
     "data": {
      "text/plain": [
       "array([0, 1])"
      ]
     },
     "execution_count": 76,
     "metadata": {},
     "output_type": "execute_result"
    }
   ],
   "source": [
    "df['Toxicity'].unique()"
   ]
  },
  {
   "cell_type": "code",
   "execution_count": 77,
   "id": "8f35058c-c84d-4828-aeda-070746cbc395",
   "metadata": {},
   "outputs": [
    {
     "data": {
      "text/html": [
       "<div>\n",
       "<style scoped>\n",
       "    .dataframe tbody tr th:only-of-type {\n",
       "        vertical-align: middle;\n",
       "    }\n",
       "\n",
       "    .dataframe tbody tr th {\n",
       "        vertical-align: top;\n",
       "    }\n",
       "\n",
       "    .dataframe thead th {\n",
       "        text-align: right;\n",
       "    }\n",
       "</style>\n",
       "<table border=\"1\" class=\"dataframe\">\n",
       "  <thead>\n",
       "    <tr style=\"text-align: right;\">\n",
       "      <th></th>\n",
       "      <th>Unnamed: 0</th>\n",
       "      <th>Toxicity</th>\n",
       "      <th>tweet</th>\n",
       "    </tr>\n",
       "  </thead>\n",
       "  <tbody>\n",
       "    <tr>\n",
       "      <th>0</th>\n",
       "      <td>0</td>\n",
       "      <td>0</td>\n",
       "      <td>@user when a father is dysfunctional and is s...</td>\n",
       "    </tr>\n",
       "    <tr>\n",
       "      <th>1</th>\n",
       "      <td>1</td>\n",
       "      <td>0</td>\n",
       "      <td>@user @user thanks for #lyft credit i can't us...</td>\n",
       "    </tr>\n",
       "    <tr>\n",
       "      <th>2</th>\n",
       "      <td>2</td>\n",
       "      <td>0</td>\n",
       "      <td>bihday your majesty</td>\n",
       "    </tr>\n",
       "    <tr>\n",
       "      <th>3</th>\n",
       "      <td>3</td>\n",
       "      <td>0</td>\n",
       "      <td>#model   i love u take with u all the time in ...</td>\n",
       "    </tr>\n",
       "    <tr>\n",
       "      <th>4</th>\n",
       "      <td>4</td>\n",
       "      <td>0</td>\n",
       "      <td>factsguide: society now    #motivation</td>\n",
       "    </tr>\n",
       "  </tbody>\n",
       "</table>\n",
       "</div>"
      ],
      "text/plain": [
       "   Unnamed: 0  Toxicity                                              tweet\n",
       "0           0         0   @user when a father is dysfunctional and is s...\n",
       "1           1         0  @user @user thanks for #lyft credit i can't us...\n",
       "2           2         0                                bihday your majesty\n",
       "3           3         0  #model   i love u take with u all the time in ...\n",
       "4           4         0             factsguide: society now    #motivation"
      ]
     },
     "execution_count": 77,
     "metadata": {},
     "output_type": "execute_result"
    }
   ],
   "source": [
    "df.head()"
   ]
  },
  {
   "cell_type": "code",
   "execution_count": 78,
   "id": "ac70fd09-7f0d-43a3-bef3-a9f7d08b8502",
   "metadata": {},
   "outputs": [],
   "source": [
    "content_lbl, class_lbl = 'tweet', 'Toxicity'"
   ]
  },
  {
   "cell_type": "code",
   "execution_count": 79,
   "id": "aea07c5e-a0f0-4e7f-9f48-00c55fe34f13",
   "metadata": {},
   "outputs": [],
   "source": [
    "df = df[[content_lbl, class_lbl]]"
   ]
  },
  {
   "cell_type": "code",
   "execution_count": 80,
   "id": "666f6c40-bf10-4b8d-81e7-64b962b00268",
   "metadata": {},
   "outputs": [],
   "source": [
    "df = df[df[class_lbl] != 2]"
   ]
  },
  {
   "cell_type": "code",
   "execution_count": 81,
   "id": "ca26ef71-381f-4576-a04c-93b1c4ed7ddc",
   "metadata": {},
   "outputs": [
    {
     "data": {
      "text/plain": [
       "tweet       56745\n",
       "Toxicity    56745\n",
       "dtype: int64"
      ]
     },
     "execution_count": 81,
     "metadata": {},
     "output_type": "execute_result"
    }
   ],
   "source": [
    "df.count()"
   ]
  },
  {
   "cell_type": "code",
   "execution_count": 82,
   "id": "49c5f936-87a1-4d7c-96ff-eb43fbbf601b",
   "metadata": {},
   "outputs": [
    {
     "data": {
      "text/html": [
       "<div>\n",
       "<style scoped>\n",
       "    .dataframe tbody tr th:only-of-type {\n",
       "        vertical-align: middle;\n",
       "    }\n",
       "\n",
       "    .dataframe tbody tr th {\n",
       "        vertical-align: top;\n",
       "    }\n",
       "\n",
       "    .dataframe thead th {\n",
       "        text-align: right;\n",
       "    }\n",
       "</style>\n",
       "<table border=\"1\" class=\"dataframe\">\n",
       "  <thead>\n",
       "    <tr style=\"text-align: right;\">\n",
       "      <th></th>\n",
       "      <th>tweet</th>\n",
       "      <th>Toxicity</th>\n",
       "    </tr>\n",
       "  </thead>\n",
       "  <tbody>\n",
       "    <tr>\n",
       "      <th>0</th>\n",
       "      <td>@user when a father is dysfunctional and is s...</td>\n",
       "      <td>0</td>\n",
       "    </tr>\n",
       "    <tr>\n",
       "      <th>1</th>\n",
       "      <td>@user @user thanks for #lyft credit i can't us...</td>\n",
       "      <td>0</td>\n",
       "    </tr>\n",
       "    <tr>\n",
       "      <th>2</th>\n",
       "      <td>bihday your majesty</td>\n",
       "      <td>0</td>\n",
       "    </tr>\n",
       "    <tr>\n",
       "      <th>3</th>\n",
       "      <td>#model   i love u take with u all the time in ...</td>\n",
       "      <td>0</td>\n",
       "    </tr>\n",
       "    <tr>\n",
       "      <th>4</th>\n",
       "      <td>factsguide: society now    #motivation</td>\n",
       "      <td>0</td>\n",
       "    </tr>\n",
       "  </tbody>\n",
       "</table>\n",
       "</div>"
      ],
      "text/plain": [
       "                                               tweet  Toxicity\n",
       "0   @user when a father is dysfunctional and is s...         0\n",
       "1  @user @user thanks for #lyft credit i can't us...         0\n",
       "2                                bihday your majesty         0\n",
       "3  #model   i love u take with u all the time in ...         0\n",
       "4             factsguide: society now    #motivation         0"
      ]
     },
     "execution_count": 82,
     "metadata": {},
     "output_type": "execute_result"
    }
   ],
   "source": [
    "df.head()"
   ]
  },
  {
   "cell_type": "code",
   "execution_count": 83,
   "id": "8e88e70e-69ea-47e5-a77c-32e1eac4fbf9",
   "metadata": {},
   "outputs": [],
   "source": [
    "def preprocess(text):\n",
    "    return word_tokenize(text.lower())\n",
    "    \n",
    "df[content_lbl] = df[content_lbl].apply(preprocess)\n",
    "# Розділення на тренувальну та тестову вибірки\n",
    "train_df, test_df = train_test_split(df, test_size=0.2, random_state=42)\n",
    "\n",
    "# Побудова словника\n",
    "all_words = [word for tweet in train_df[content_lbl] for word in tweet]\n",
    "vocab = sorted(set(all_words))\n",
    "word_to_idx = {word: idx+1 for idx, word in enumerate(vocab)}\n",
    "vocab_size = len(vocab) + 1  # +1 для padding\n",
    "\n",
    "# Кодування твітів\n",
    "def encode_tweet(tweet):\n",
    "    return [word_to_idx[word] for word in tweet if word in word_to_idx]\n",
    "\n",
    "train_df[content_lbl] = train_df[content_lbl].apply(encode_tweet)\n",
    "test_df[content_lbl] = test_df[content_lbl].apply(encode_tweet)\n",
    "\n",
    "# Додавання padding\n",
    "def pad_sequences(sequences, max_len):\n",
    "    return np.array([seq + [0]*(max_len-len(seq)) if len(seq) < max_len else seq[:max_len] for seq in sequences])\n",
    "\n",
    "MAX_LEN = 100\n",
    "X_train = pad_sequences(train_df[content_lbl], MAX_LEN)\n",
    "X_test = pad_sequences(test_df[content_lbl], MAX_LEN)\n",
    "\n",
    "# Кодування міток\n",
    "le = LabelEncoder()\n",
    "y_train = le.fit_transform(train_df[class_lbl])\n",
    "y_test = le.transform(test_df[class_lbl])\n",
    "\n",
    "# Створення датасетів та DataLoader\n",
    "class HateSpeechDataset(Dataset):\n",
    "    def __init__(self, tweets, labels):\n",
    "        self.tweets = tweets\n",
    "        self.labels = labels\n",
    "\n",
    "    def __len__(self):\n",
    "        return len(self.tweets)\n",
    "\n",
    "    def __getitem__(self, idx):\n",
    "        return torch.tensor(self.tweets[idx], dtype=torch.long), torch.tensor(self.labels[idx], dtype=torch.long)\n",
    "\n",
    "train_dataset = HateSpeechDataset(X_train, y_train)\n",
    "test_dataset = HateSpeechDataset(X_test, y_test)\n",
    "\n",
    "train_loader = DataLoader(train_dataset, batch_size=64, shuffle=True)\n",
    "test_loader = DataLoader(test_dataset, batch_size=64)"
   ]
  },
  {
   "cell_type": "code",
   "execution_count": 84,
   "id": "f6145f2a-242a-454f-9792-7addfa2d9248",
   "metadata": {},
   "outputs": [],
   "source": [
    "# Функція для валідації моделі\n",
    "def validate_model(model, test_loader, criterion):\n",
    "    model.eval()\n",
    "    total_loss, correct, total = 0, 0, 0\n",
    "    with torch.no_grad():\n",
    "        for tweets, labels in test_loader:\n",
    "            tweets, labels = tweets.to(\"cuda\"), labels.to(\"cuda\")\n",
    "            outputs = model(tweets)\n",
    "            loss = criterion(outputs, labels)\n",
    "            total_loss += loss.item()\n",
    "            _, predicted = torch.max(outputs, 1)\n",
    "            correct += (predicted == labels).sum().item()\n",
    "            total += labels.size(0)\n",
    "    avg_loss = total_loss / len(test_loader)\n",
    "    accuracy = correct / total\n",
    "    return avg_loss, accuracy\n",
    "\n",
    "# Функція для раннього зупинення\n",
    "def early_stopping(val_losses, patience=3):\n",
    "    if len(val_losses) < patience + 1:\n",
    "        return False\n",
    "    for i in range(1, patience + 1):\n",
    "        if val_losses[-i] < val_losses[-i - 1]:\n",
    "            return False\n",
    "    return True\n",
    "\n",
    "# Функція для тестування моделі з виведенням матриці неточностей\n",
    "def test_model_with_report_and_confusion_matrix(model, test_loader, model_name='model'):\n",
    "    model.eval()\n",
    "    all_preds = []\n",
    "    all_labels = []\n",
    "    with torch.no_grad():\n",
    "        for tweets, labels in tqdm(test_loader, desc='Testing'):\n",
    "            tweets, labels = tweets.to(\"cuda\"), labels.to(\"cuda\")\n",
    "            outputs = model(tweets)\n",
    "            _, preds = torch.max(outputs, 1)\n",
    "            all_preds.extend(preds.cpu().tolist())\n",
    "            all_labels.extend(labels.cpu().tolist())\n",
    "\n",
    "    print(\"Classification Report:\")\n",
    "    print(classification_report(all_labels, all_preds, target_names=[\"Non-Hate\", \"Hate\"]))\n",
    "\n",
    "    cm = confusion_matrix(all_labels, all_preds)\n",
    "    disp = ConfusionMatrixDisplay(confusion_matrix=cm, display_labels=[\"Non-Hate\", \"Hate\"])\n",
    "    disp.plot(cmap=plt.cm.Blues)\n",
    "    plt.title(f\"Confusion Matrix - {model_name}\")\n",
    "    plt.savefig(f\"../models/{model_name}_confusion_matrix.png\")\n",
    "    plt.show()\n",
    "\n",
    "# Візуалізація графіків втрат і точності\n",
    "def plot_metrics(train_losses, val_losses, train_accuracies, val_accuracies, model_name='model'):\n",
    "    plt.figure(figsize=(12, 5))\n",
    "    plt.subplot(1, 2, 1)\n",
    "    plt.plot(train_losses, label='Training Loss')\n",
    "    plt.plot(val_losses, label='Validation Loss')\n",
    "    plt.xlabel('Epoch')\n",
    "    plt.ylabel('Loss')\n",
    "    plt.title('Loss over Epochs')\n",
    "    plt.legend()\n",
    "\n",
    "    plt.subplot(1, 2, 2)\n",
    "    plt.plot(train_accuracies, label='Training Accuracy')\n",
    "    plt.plot(val_accuracies, label='Validation Accuracy')\n",
    "    plt.xlabel('Epoch')\n",
    "    plt.ylabel('Accuracy')\n",
    "    plt.title('Accuracy over Epochs')\n",
    "    plt.legend()\n",
    "\n",
    "    plt.tight_layout()\n",
    "    plt.savefig(f\"../models/{model_name}_metrics.png\")\n",
    "    plt.show()\n",
    "\n",
    "def test_model(model, test_loader):\n",
    "    model.eval()\n",
    "    all_preds = []\n",
    "    with torch.no_grad():\n",
    "        # Додаємо прогрес-бар для тестування\n",
    "        for tweets, labels in tqdm(test_loader, desc='Testing'):\n",
    "            tweets, labels = tweets.to(\"cuda\"), labels.to(\"cuda\")\n",
    "            outputs = model(tweets)\n",
    "            _, preds = torch.max(outputs, 1)\n",
    "            all_preds.extend(preds.cpu().tolist())  # Використовуємо .tolist() замість numpy\n",
    "    return all_preds"
   ]
  },
  {
   "cell_type": "code",
   "execution_count": 85,
   "id": "5c112b81-fc68-4f55-91e4-81d7a3822dfe",
   "metadata": {},
   "outputs": [],
   "source": [
    "# Define CNN Model for Hate Speech Detection\n",
    "class HateSpeechCNN(nn.Module):\n",
    "    def __init__(self, vocab_size, embedding_dim=100, num_filters=100, filter_sizes=[3, 4, 5], output_dim=1, dropout=0.5):\n",
    "        super(HateSpeechCNN, self).__init__()\n",
    "        self.embedding = nn.Embedding(vocab_size, embedding_dim)\n",
    "        \n",
    "        # Convolutional layers for different filter sizes\n",
    "        self.convs = nn.ModuleList([\n",
    "            nn.Conv2d(in_channels=1, out_channels=num_filters, kernel_size=(fs, embedding_dim))\n",
    "            for fs in filter_sizes\n",
    "        ])\n",
    "        \n",
    "        self.fc = nn.Linear(len(filter_sizes) * num_filters, output_dim)\n",
    "        self.dropout = nn.Dropout(dropout)\n",
    "        self.sigmoid = nn.Sigmoid()\n",
    "\n",
    "    def forward(self, x):\n",
    "        x = self.embedding(x)  # [batch_size, sent_len, emb_dim]\n",
    "        x = x.unsqueeze(1)  # [batch_size, 1, sent_len, emb_dim]\n",
    "        \n",
    "        # Apply convolution and pooling\n",
    "        conved = [torch.relu(conv(x)).squeeze(3) for conv in self.convs]\n",
    "        pooled = [torch.max(conv, dim=2)[0] for conv in conved]\n",
    "        \n",
    "        # Concatenate pooled outputs\n",
    "        cat = self.dropout(torch.cat(pooled, dim=1))\n",
    "        return self.sigmoid(self.fc(cat))\n",
    "\n",
    "# Model setup\n",
    "vocab_size = len(word_to_idx) + 1\n",
    "model = HateSpeechCNN(vocab_size)\n",
    "\n",
    "# Training setup\n",
    "criterion = nn.BCELoss()\n",
    "optimizer = optim.Adam(model.parameters(), lr=0.001)\n",
    "num_epochs = 10\n",
    "train_losses, val_losses = [], []\n"
   ]
  },
  {
   "cell_type": "code",
   "execution_count": 86,
   "id": "9c1e7a25-7148-4233-9329-3dba817f8710",
   "metadata": {},
   "outputs": [
    {
     "name": "stderr",
     "output_type": "stream",
     "text": [
      "                                                                                                                                                                                                                                                    \r"
     ]
    },
    {
     "name": "stdout",
     "output_type": "stream",
     "text": [
      "Epoch 1/10 - Train Loss: 0.2888, Val Loss: 0.1964, Accuracy: 0.9169, Precision: 0.9375, Recall: 0.8643, F1 Score: 0.8994\n"
     ]
    },
    {
     "name": "stderr",
     "output_type": "stream",
     "text": [
      "                                                                                                                                                                                                                                                    \r"
     ]
    },
    {
     "name": "stdout",
     "output_type": "stream",
     "text": [
      "Epoch 2/10 - Train Loss: 0.1818, Val Loss: 0.1676, Accuracy: 0.9314, Precision: 0.9450, Recall: 0.8921, F1 Score: 0.9178\n"
     ]
    },
    {
     "name": "stderr",
     "output_type": "stream",
     "text": [
      "                                                                                                                                                                                                                                                    \r"
     ]
    },
    {
     "name": "stdout",
     "output_type": "stream",
     "text": [
      "Epoch 3/10 - Train Loss: 0.1334, Val Loss: 0.1580, Accuracy: 0.9382, Precision: 0.9527, Recall: 0.9010, F1 Score: 0.9261\n"
     ]
    },
    {
     "name": "stderr",
     "output_type": "stream",
     "text": [
      "                                                                                                                                                                                                                                                    \r"
     ]
    },
    {
     "name": "stdout",
     "output_type": "stream",
     "text": [
      "Epoch 4/10 - Train Loss: 0.0984, Val Loss: 0.1643, Accuracy: 0.9391, Precision: 0.9425, Recall: 0.9141, F1 Score: 0.9281\n"
     ]
    },
    {
     "name": "stderr",
     "output_type": "stream",
     "text": [
      "                                                                                                                                                                                                                                                    \r"
     ]
    },
    {
     "name": "stdout",
     "output_type": "stream",
     "text": [
      "Epoch 5/10 - Train Loss: 0.0676, Val Loss: 0.1775, Accuracy: 0.9396, Precision: 0.9439, Recall: 0.9137, F1 Score: 0.9285\n"
     ]
    },
    {
     "name": "stderr",
     "output_type": "stream",
     "text": [
      "                                                                                                                                                                                                                                                    \r"
     ]
    },
    {
     "name": "stdout",
     "output_type": "stream",
     "text": [
      "Epoch 6/10 - Train Loss: 0.0468, Val Loss: 0.1996, Accuracy: 0.9396, Precision: 0.9435, Recall: 0.9141, F1 Score: 0.9286\n"
     ]
    },
    {
     "name": "stderr",
     "output_type": "stream",
     "text": [
      "                                                                                                                                                                                                                                                    \r"
     ]
    },
    {
     "name": "stdout",
     "output_type": "stream",
     "text": [
      "Epoch 7/10 - Train Loss: 0.0358, Val Loss: 0.2314, Accuracy: 0.9390, Precision: 0.9489, Recall: 0.9069, F1 Score: 0.9274\n"
     ]
    },
    {
     "name": "stderr",
     "output_type": "stream",
     "text": [
      "                                                                                                                                                                                                                                                    \r"
     ]
    },
    {
     "name": "stdout",
     "output_type": "stream",
     "text": [
      "Epoch 8/10 - Train Loss: 0.0293, Val Loss: 0.2699, Accuracy: 0.9397, Precision: 0.9463, Recall: 0.9114, F1 Score: 0.9286\n"
     ]
    },
    {
     "name": "stderr",
     "output_type": "stream",
     "text": [
      "                                                                                                                                                                                                                                                    \r"
     ]
    },
    {
     "name": "stdout",
     "output_type": "stream",
     "text": [
      "Epoch 9/10 - Train Loss: 0.0209, Val Loss: 0.3162, Accuracy: 0.9379, Precision: 0.9308, Recall: 0.9241, F1 Score: 0.9275\n"
     ]
    },
    {
     "name": "stderr",
     "output_type": "stream",
     "text": [
      "                                                                                                                                                                                                                                                    \r"
     ]
    },
    {
     "name": "stdout",
     "output_type": "stream",
     "text": [
      "Epoch 10/10 - Train Loss: 0.0174, Val Loss: 0.3533, Accuracy: 0.9388, Precision: 0.9495, Recall: 0.9059, F1 Score: 0.9272\n"
     ]
    }
   ],
   "source": [
    "# Training and Evaluation with Progress Bar\n",
    "for epoch in range(num_epochs):\n",
    "    model.train()\n",
    "    epoch_train_loss = 0\n",
    "    train_loader_tqdm = tqdm(train_loader, desc=f\"Epoch {epoch+1}/{num_epochs}\", leave=False)\n",
    "    \n",
    "    for tweets, labels in train_loader_tqdm:\n",
    "        labels = labels.float().unsqueeze(1)\n",
    "        optimizer.zero_grad()\n",
    "        outputs = model(tweets)\n",
    "        loss = criterion(outputs, labels)\n",
    "        loss.backward()\n",
    "        optimizer.step()\n",
    "        \n",
    "        epoch_train_loss += loss.item()\n",
    "        train_loader_tqdm.set_postfix(loss=loss.item())\n",
    "    \n",
    "    # Validation phase\n",
    "    model.eval()\n",
    "    epoch_val_loss = 0\n",
    "    y_true, y_pred = [], []\n",
    "    \n",
    "    with torch.no_grad():\n",
    "        for tweets, labels in test_loader:\n",
    "            labels = labels.float().unsqueeze(1)\n",
    "            outputs = model(tweets)\n",
    "            loss = criterion(outputs, labels)\n",
    "            epoch_val_loss += loss.item()\n",
    "            y_true.extend(labels.cpu().numpy())\n",
    "            y_pred.extend((outputs.cpu().numpy() > 0.5).astype(int))\n",
    "\n",
    "    # Calculate average loss and metrics\n",
    "    avg_train_loss = epoch_train_loss / len(train_loader)\n",
    "    avg_val_loss = epoch_val_loss / len(test_loader)\n",
    "    train_losses.append(avg_train_loss)\n",
    "    val_losses.append(avg_val_loss)\n",
    "\n",
    "    accuracy = accuracy_score(y_true, y_pred)\n",
    "    precision = precision_score(y_true, y_pred)\n",
    "    recall = recall_score(y_true, y_pred)\n",
    "    f1 = f1_score(y_true, y_pred)\n",
    "\n",
    "    # Print epoch results\n",
    "    print(f\"Epoch {epoch+1}/{num_epochs} - Train Loss: {avg_train_loss:.4f}, Val Loss: {avg_val_loss:.4f}, \"\n",
    "          f\"Accuracy: {accuracy:.4f}, Precision: {precision:.4f}, Recall: {recall:.4f}, F1 Score: {f1:.4f}\")"
   ]
  },
  {
   "cell_type": "code",
   "execution_count": 87,
   "id": "ff1fa6e8-4955-40b6-9971-5c733c3ed3b3",
   "metadata": {},
   "outputs": [
    {
     "name": "stdout",
     "output_type": "stream",
     "text": [
      "Test Accuracy: 0.9388\n",
      "Test Precision: 0.9495\n",
      "Test Recall: 0.9059\n",
      "Test F1 Score: 0.9272\n"
     ]
    },
    {
     "data": {
      "image/png": "[encoded data removed]",
      "text/plain": [
       "<Figure size 600x500 with 2 Axes>"
      ]
     },
     "metadata": {},
     "output_type": "display_data"
    }
   ],
   "source": [
    "model.eval()\n",
    "y_true, y_pred = [], []\n",
    "with torch.no_grad():\n",
    "    for tweets, labels in test_loader:\n",
    "        labels = labels.float().unsqueeze(1)\n",
    "        outputs = model(tweets)\n",
    "        y_true.extend(labels.cpu().numpy())\n",
    "        y_pred.extend((outputs.cpu().numpy() > 0.5).astype(int))\n",
    "\n",
    "# Metrics\n",
    "accuracy = accuracy_score(y_true, y_pred)\n",
    "precision = precision_score(y_true, y_pred)\n",
    "recall = recall_score(y_true, y_pred)\n",
    "f1 = f1_score(y_true, y_pred)\n",
    "\n",
    "print(f\"Test Accuracy: {accuracy:.4f}\")\n",
    "print(f\"Test Precision: {precision:.4f}\")\n",
    "print(f\"Test Recall: {recall:.4f}\")\n",
    "print(f\"Test F1 Score: {f1:.4f}\")\n",
    "\n",
    "# Confusion Matrix\n",
    "conf_matrix = confusion_matrix(y_true, y_pred)\n",
    "plt.figure(figsize=(6, 5))\n",
    "sns.heatmap(conf_matrix, annot=True, fmt=\"d\", cmap=\"Blues\", xticklabels=['Not Hate Speech', 'Hate Speech'], \n",
    "            yticklabels=['Not Hate Speech', 'Hate Speech'])\n",
    "plt.xlabel('Predicted Label')\n",
    "plt.ylabel('True Label')\n",
    "plt.title('Confusion Matrix')\n",
    "plt.show()"
   ]
  },
  {
   "cell_type": "code",
   "execution_count": 88,
   "id": "524e34b6-4b8a-4dff-b38b-c96ee5554359",
   "metadata": {},
   "outputs": [
    {
     "data": {
      "image/png": "[encoded data removed]",
      "text/plain": [
       "<Figure size 640x480 with 1 Axes>"
      ]
     },
     "metadata": {},
     "output_type": "display_data"
    }
   ],
   "source": [
    "# Plot training and validation loss\n",
    "plt.figure()\n",
    "plt.plot(train_losses, label='Training Loss')\n",
    "plt.plot(val_losses, label='Validation Loss')\n",
    "plt.xlabel('Epoch')\n",
    "plt.ylabel('Loss')\n",
    "plt.legend()\n",
    "plt.title('Training and Validation Loss')\n",
    "plt.show()"
   ]
  },
  {
   "cell_type": "code",
   "execution_count": null,
   "id": "13ad354f-3f85-45c3-88fa-2602ce220f96",
   "metadata": {},
   "outputs": [],
   "source": []
  },
  {
   "cell_type": "code",
   "execution_count": null,
   "id": "06a16e74-c0c5-47a7-a714-5975eda2c9df",
   "metadata": {},
   "outputs": [],
   "source": []
  },
  {
   "cell_type": "code",
   "execution_count": null,
   "id": "d460c0d4-7e1b-4733-9773-1540ab1751bd",
   "metadata": {},
   "outputs": [],
   "source": []
  },
  {
   "cell_type": "code",
   "execution_count": null,
   "id": "263f3076-84fc-4c61-92e3-98f2594a6288",
   "metadata": {},
   "outputs": [],
   "source": []
  }
 ],
 "metadata": {
  "kernelspec": {
   "display_name": "Python 3 (ipykernel)",
   "language": "python",
   "name": "python3"
  },
  "language_info": {
   "codemirror_mode": {
    "name": "ipython",
    "version": 3
   },
   "file_extension": ".py",
   "mimetype": "text/x-python",
   "name": "python",
   "nbconvert_exporter": "python",
   "pygments_lexer": "ipython3",
   "version": "3.10.14"
  }
 },
 "nbformat": 4,
 "nbformat_minor": 5
}
