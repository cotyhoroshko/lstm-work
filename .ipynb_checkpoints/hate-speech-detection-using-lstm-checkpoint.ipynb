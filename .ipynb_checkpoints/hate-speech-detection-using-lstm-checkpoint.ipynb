{
 "cells": [
  {
   "cell_type": "markdown",
   "id": "cf05277e",
   "metadata": {
    "_cell_guid": "b1076dfc-b9ad-4769-8c92-a6c4dae69d19",
    "_uuid": "8f2839f25d086af736a60e9eeb907d3b93b6e0e5",
    "execution": {
     "iopub.execute_input": "2022-06-16T02:58:48.161168Z",
     "iopub.status.busy": "2022-06-16T02:58:48.160647Z",
     "iopub.status.idle": "2022-06-16T02:58:48.175625Z",
     "shell.execute_reply": "2022-06-16T02:58:48.174605Z",
     "shell.execute_reply.started": "2022-06-16T02:58:48.161129Z"
    },
    "papermill": {
     "duration": 0.00843,
     "end_time": "2022-07-01T00:26:27.165080",
     "exception": false,
     "start_time": "2022-07-01T00:26:27.156650",
     "status": "completed"
    },
    "tags": []
   },
   "source": [
    "# Finding the path of dataset "
   ]
  },
  {
   "cell_type": "code",
   "execution_count": null,
   "id": "5fb9ec14",
   "metadata": {
    "execution": {
     "iopub.execute_input": "2022-07-01T00:26:27.181980Z",
     "iopub.status.busy": "2022-07-01T00:26:27.180967Z",
     "iopub.status.idle": "2022-07-01T00:26:27.196839Z",
     "shell.execute_reply": "2022-07-01T00:26:27.196048Z"
    },
    "papermill": {
     "duration": 0.026976,
     "end_time": "2022-07-01T00:26:27.199537",
     "exception": false,
     "start_time": "2022-07-01T00:26:27.172561",
     "status": "completed"
    },
    "tags": [],
    "pycharm": {
     "is_executing": true
    }
   },
   "outputs": [],
   "source": [
    "import os\n",
    "for dirname, _, filenames in os.walk('/kaggle/input'):\n",
    "    for filename in filenames:\n",
    "        print(os.path.join(dirname, filename))"
   ]
  },
  {
   "cell_type": "markdown",
   "id": "3bae601b",
   "metadata": {
    "papermill": {
     "duration": 0.008477,
     "end_time": "2022-07-01T00:26:27.217820",
     "exception": false,
     "start_time": "2022-07-01T00:26:27.209343",
     "status": "completed"
    },
    "tags": []
   },
   "source": [
    "# Imorting Libraries"
   ]
  },
  {
   "cell_type": "code",
   "execution_count": 2,
   "id": "984c7070",
   "metadata": {
    "execution": {
     "iopub.execute_input": "2022-07-01T00:26:27.236077Z",
     "iopub.status.busy": "2022-07-01T00:26:27.235427Z",
     "iopub.status.idle": "2022-07-01T00:26:33.768998Z",
     "shell.execute_reply": "2022-07-01T00:26:33.768170Z"
    },
    "papermill": {
     "duration": 6.544879,
     "end_time": "2022-07-01T00:26:33.771061",
     "exception": false,
     "start_time": "2022-07-01T00:26:27.226182",
     "status": "completed"
    },
    "tags": []
   },
   "outputs": [],
   "source": [
    "import os\n",
    "import numpy as np \n",
    "import pandas as pd \n",
    "from sklearn.preprocessing import LabelEncoder\n",
    "import nltk\n",
    "import re\n",
    "from nltk.stem import PorterStemmer\n",
    "from nltk.corpus import stopwords\n",
    "from sklearn.model_selection import train_test_split\n",
    "from sklearn.feature_extraction.text import CountVectorizer\n",
    "from sklearn.naive_bayes import MultinomialNB\n",
    "from sklearn.metrics import accuracy_score\n",
    "from sklearn.metrics import confusion_matrix\n",
    "import matplotlib.pyplot as plt\n",
    "import seaborn as sns\n",
    "from nltk.stem import WordNetLemmatizer\n",
    "import itertools\n",
    "from wordcloud import WordCloud\n",
    "from sklearn.ensemble import RandomForestClassifier\n",
    "from sklearn import tree\n",
    "from sklearn.ensemble import AdaBoostClassifier\n",
    "from sklearn.neighbors import KNeighborsClassifier\n",
    "from sklearn.svm import SVC\n",
    "from keras.models import Sequential,Model\n",
    "from keras.layers import Dense,LSTM, SpatialDropout1D, Embedding\n",
    "from keras.utils.np_utils import to_categorical\n",
    "from joblib import dump, load"
   ]
  },
  {
   "cell_type": "markdown",
   "id": "e18f917f",
   "metadata": {
    "papermill": {
     "duration": 0.006906,
     "end_time": "2022-07-01T00:26:33.785326",
     "exception": false,
     "start_time": "2022-07-01T00:26:33.778420",
     "status": "completed"
    },
    "tags": []
   },
   "source": [
    "# Reading the dataset"
   ]
  },
  {
   "cell_type": "code",
   "execution_count": 3,
   "id": "fbd4a653",
   "metadata": {
    "execution": {
     "iopub.execute_input": "2022-07-01T00:26:33.801293Z",
     "iopub.status.busy": "2022-07-01T00:26:33.800700Z",
     "iopub.status.idle": "2022-07-01T00:26:33.871976Z",
     "shell.execute_reply": "2022-07-01T00:26:33.871221Z"
    },
    "papermill": {
     "duration": 0.081746,
     "end_time": "2022-07-01T00:26:33.874035",
     "exception": false,
     "start_time": "2022-07-01T00:26:33.792289",
     "status": "completed"
    },
    "tags": []
   },
   "outputs": [],
   "source": [
    "text = []\n",
    "clas = []\n",
    "df = pd.read_csv('/kaggle/input/hate-speech-and-offensive-language-dataset/labeled_data.csv')\n",
    "text = df['tweet'].tolist()\n",
    "clas = df['class'].tolist()"
   ]
  },
  {
   "cell_type": "markdown",
   "id": "0eb13911",
   "metadata": {
    "papermill": {
     "duration": 0.006933,
     "end_time": "2022-07-01T00:26:33.888255",
     "exception": false,
     "start_time": "2022-07-01T00:26:33.881322",
     "status": "completed"
    },
    "tags": []
   },
   "source": [
    "# creating a new dataframe for easy text processing"
   ]
  },
  {
   "cell_type": "code",
   "execution_count": 4,
   "id": "9e66a7b3",
   "metadata": {
    "execution": {
     "iopub.execute_input": "2022-07-01T00:26:33.903420Z",
     "iopub.status.busy": "2022-07-01T00:26:33.903010Z",
     "iopub.status.idle": "2022-07-01T00:26:33.919604Z",
     "shell.execute_reply": "2022-07-01T00:26:33.918955Z"
    },
    "papermill": {
     "duration": 0.02653,
     "end_time": "2022-07-01T00:26:33.921737",
     "exception": false,
     "start_time": "2022-07-01T00:26:33.895207",
     "status": "completed"
    },
    "tags": []
   },
   "outputs": [],
   "source": [
    "df = pd.DataFrame({'tweet': text, 'class': clas})"
   ]
  },
  {
   "cell_type": "markdown",
   "id": "d69a4656",
   "metadata": {
    "papermill": {
     "duration": 0.006831,
     "end_time": "2022-07-01T00:26:33.935973",
     "exception": false,
     "start_time": "2022-07-01T00:26:33.929142",
     "status": "completed"
    },
    "tags": []
   },
   "source": [
    "# Finding if there is any missing data"
   ]
  },
  {
   "cell_type": "code",
   "execution_count": 5,
   "id": "05987d7a",
   "metadata": {
    "execution": {
     "iopub.execute_input": "2022-07-01T00:26:33.951085Z",
     "iopub.status.busy": "2022-07-01T00:26:33.950790Z",
     "iopub.status.idle": "2022-07-01T00:26:33.959709Z",
     "shell.execute_reply": "2022-07-01T00:26:33.958998Z"
    },
    "papermill": {
     "duration": 0.019269,
     "end_time": "2022-07-01T00:26:33.962268",
     "exception": false,
     "start_time": "2022-07-01T00:26:33.942999",
     "status": "completed"
    },
    "tags": []
   },
   "outputs": [
    {
     "name": "stdout",
     "output_type": "stream",
     "text": [
      "tweet    0\n",
      "class    0\n",
      "dtype: int64\n"
     ]
    }
   ],
   "source": [
    "print(df.isnull().sum())"
   ]
  },
  {
   "cell_type": "markdown",
   "id": "8a6379b9",
   "metadata": {
    "papermill": {
     "duration": 0.007565,
     "end_time": "2022-07-01T00:26:33.977744",
     "exception": false,
     "start_time": "2022-07-01T00:26:33.970179",
     "status": "completed"
    },
    "tags": []
   },
   "source": [
    "# Converting the data into lower case."
   ]
  },
  {
   "cell_type": "code",
   "execution_count": 6,
   "id": "f4541358",
   "metadata": {
    "execution": {
     "iopub.execute_input": "2022-07-01T00:26:33.994061Z",
     "iopub.status.busy": "2022-07-01T00:26:33.992693Z",
     "iopub.status.idle": "2022-07-01T00:26:34.008633Z",
     "shell.execute_reply": "2022-07-01T00:26:34.007788Z"
    },
    "papermill": {
     "duration": 0.025555,
     "end_time": "2022-07-01T00:26:34.010351",
     "exception": false,
     "start_time": "2022-07-01T00:26:33.984796",
     "status": "completed"
    },
    "tags": []
   },
   "outputs": [],
   "source": [
    "df['tweet'] = df['tweet'].apply(lambda x:x.lower())"
   ]
  },
  {
   "cell_type": "markdown",
   "id": "8995939c",
   "metadata": {
    "papermill": {
     "duration": 0.006871,
     "end_time": "2022-07-01T00:26:34.024547",
     "exception": false,
     "start_time": "2022-07-01T00:26:34.017676",
     "status": "completed"
    },
    "tags": []
   },
   "source": [
    "# removing punctuations"
   ]
  },
  {
   "cell_type": "code",
   "execution_count": 7,
   "id": "99d89b57",
   "metadata": {
    "execution": {
     "iopub.execute_input": "2022-07-01T00:26:34.040137Z",
     "iopub.status.busy": "2022-07-01T00:26:34.039596Z",
     "iopub.status.idle": "2022-07-01T00:26:34.150959Z",
     "shell.execute_reply": "2022-07-01T00:26:34.149194Z"
    },
    "papermill": {
     "duration": 0.12169,
     "end_time": "2022-07-01T00:26:34.153261",
     "exception": false,
     "start_time": "2022-07-01T00:26:34.031571",
     "status": "completed"
    },
    "tags": []
   },
   "outputs": [
    {
     "name": "stderr",
     "output_type": "stream",
     "text": [
      "/opt/conda/lib/python3.7/site-packages/ipykernel_launcher.py:5: FutureWarning: The default value of regex will change from True to False in a future version. In addition, single character regular expressions will *not* be treated as literal strings when regex=True.\n",
      "  \"\"\"\n"
     ]
    }
   ],
   "source": [
    "punctuation_signs = list(\"?:!.,;\")\n",
    "df['tweet'] = df['tweet']\n",
    "\n",
    "for punct_sign in punctuation_signs:   \n",
    "    df['tweet'] = df['tweet'].str.replace(punct_sign, '')"
   ]
  },
  {
   "cell_type": "markdown",
   "id": "bb7e6227",
   "metadata": {
    "papermill": {
     "duration": 0.007011,
     "end_time": "2022-07-01T00:26:34.168396",
     "exception": false,
     "start_time": "2022-07-01T00:26:34.161385",
     "status": "completed"
    },
    "tags": []
   },
   "source": [
    "# Removing '\\n' and '\\t', extra spaces, quoting text, and progressive pronouns."
   ]
  },
  {
   "cell_type": "code",
   "execution_count": 8,
   "id": "b6b5ff27",
   "metadata": {
    "execution": {
     "iopub.execute_input": "2022-07-01T00:26:34.184028Z",
     "iopub.status.busy": "2022-07-01T00:26:34.183721Z",
     "iopub.status.idle": "2022-07-01T00:26:34.264194Z",
     "shell.execute_reply": "2022-07-01T00:26:34.263460Z"
    },
    "papermill": {
     "duration": 0.089968,
     "end_time": "2022-07-01T00:26:34.265869",
     "exception": false,
     "start_time": "2022-07-01T00:26:34.175901",
     "status": "completed"
    },
    "tags": []
   },
   "outputs": [],
   "source": [
    "df['tweet'] = df['tweet'].apply(lambda x: x.replace('\\n', ' '))\n",
    "df['tweet'] = df['tweet'].apply(lambda x: x.replace('\\t', ' '))\n",
    "df['tweet'] = df['tweet'].str.replace(\"    \", \" \")\n",
    "df['tweet'] = df['tweet'].str.replace('\"', '')\n",
    "df['tweet'] = df['tweet'].str.replace(\"'s\", \"\")"
   ]
  },
  {
   "cell_type": "markdown",
   "id": "bddc825c",
   "metadata": {
    "papermill": {
     "duration": 0.006982,
     "end_time": "2022-07-01T00:26:34.279971",
     "exception": false,
     "start_time": "2022-07-01T00:26:34.272989",
     "status": "completed"
    },
    "tags": []
   },
   "source": [
    "# removing stop-words"
   ]
  },
  {
   "cell_type": "code",
   "execution_count": 9,
   "id": "1ed0efb9",
   "metadata": {
    "execution": {
     "iopub.execute_input": "2022-07-01T00:26:34.295591Z",
     "iopub.status.busy": "2022-07-01T00:26:34.295199Z",
     "iopub.status.idle": "2022-07-01T00:26:48.340358Z",
     "shell.execute_reply": "2022-07-01T00:26:48.339533Z"
    },
    "papermill": {
     "duration": 14.055339,
     "end_time": "2022-07-01T00:26:48.342405",
     "exception": false,
     "start_time": "2022-07-01T00:26:34.287066",
     "status": "completed"
    },
    "tags": []
   },
   "outputs": [
    {
     "name": "stdout",
     "output_type": "stream",
     "text": [
      "[nltk_data] Downloading package stopwords to /usr/share/nltk_data...\n",
      "[nltk_data]   Package stopwords is already up-to-date!\n"
     ]
    },
    {
     "name": "stderr",
     "output_type": "stream",
     "text": [
      "/opt/conda/lib/python3.7/site-packages/ipykernel_launcher.py:5: FutureWarning: The default value of regex will change from True to False in a future version.\n",
      "  \"\"\"\n"
     ]
    }
   ],
   "source": [
    "nltk.download('stopwords')\n",
    "stop_words = list(stopwords.words('english'))\n",
    "for stop_word in stop_words:\n",
    "    regex_stopword = r\"\\b\" + stop_word + r\"\\b\"\n",
    "    df['tweet'] = df['tweet'].str.replace(regex_stopword, '')"
   ]
  },
  {
   "cell_type": "markdown",
   "id": "991ba24e",
   "metadata": {
    "papermill": {
     "duration": 0.007169,
     "end_time": "2022-07-01T00:26:48.357745",
     "exception": false,
     "start_time": "2022-07-01T00:26:48.350576",
     "status": "completed"
    },
    "tags": []
   },
   "source": [
    "# Using Bag of Words approach for final data Preparation.¶"
   ]
  },
  {
   "cell_type": "code",
   "execution_count": 10,
   "id": "ee9e94c1",
   "metadata": {
    "execution": {
     "iopub.execute_input": "2022-07-01T00:26:48.373967Z",
     "iopub.status.busy": "2022-07-01T00:26:48.373640Z",
     "iopub.status.idle": "2022-07-01T00:26:48.769275Z",
     "shell.execute_reply": "2022-07-01T00:26:48.768450Z"
    },
    "papermill": {
     "duration": 0.406168,
     "end_time": "2022-07-01T00:26:48.771450",
     "exception": false,
     "start_time": "2022-07-01T00:26:48.365282",
     "status": "completed"
    },
    "tags": []
   },
   "outputs": [],
   "source": [
    "cv = CountVectorizer(max_features = 75)\n",
    "X = cv.fit_transform(df['tweet']).toarray()\n",
    "y = df['class']"
   ]
  },
  {
   "cell_type": "markdown",
   "id": "63c36ad8",
   "metadata": {
    "papermill": {
     "duration": 0.007788,
     "end_time": "2022-07-01T00:26:48.786969",
     "exception": false,
     "start_time": "2022-07-01T00:26:48.779181",
     "status": "completed"
    },
    "tags": []
   },
   "source": [
    "# Splitting the Data using Stratified split"
   ]
  },
  {
   "cell_type": "code",
   "execution_count": 11,
   "id": "e367c525",
   "metadata": {
    "execution": {
     "iopub.execute_input": "2022-07-01T00:26:48.803201Z",
     "iopub.status.busy": "2022-07-01T00:26:48.802306Z",
     "iopub.status.idle": "2022-07-01T00:26:48.827422Z",
     "shell.execute_reply": "2022-07-01T00:26:48.826600Z"
    },
    "papermill": {
     "duration": 0.035194,
     "end_time": "2022-07-01T00:26:48.829419",
     "exception": false,
     "start_time": "2022-07-01T00:26:48.794225",
     "status": "completed"
    },
    "tags": []
   },
   "outputs": [],
   "source": [
    "X_train, X_test, y_train, y_test = train_test_split(X, y, test_size = 0.3, stratify=y, random_state = 42)"
   ]
  },
  {
   "cell_type": "code",
   "execution_count": 12,
   "id": "c152c75c",
   "metadata": {
    "execution": {
     "iopub.execute_input": "2022-07-01T00:26:48.845704Z",
     "iopub.status.busy": "2022-07-01T00:26:48.845351Z",
     "iopub.status.idle": "2022-07-01T00:26:48.854424Z",
     "shell.execute_reply": "2022-07-01T00:26:48.853693Z"
    },
    "papermill": {
     "duration": 0.019208,
     "end_time": "2022-07-01T00:26:48.856130",
     "exception": false,
     "start_time": "2022-07-01T00:26:48.836922",
     "status": "completed"
    },
    "tags": []
   },
   "outputs": [],
   "source": [
    "def plot_confusion_matrix(cm, classes,\n",
    "                          normalize=False,\n",
    "                          title='Confusion matrix',\n",
    "                              cmap=plt.cm.Blues):\n",
    "\n",
    "    plt.imshow(cm, interpolation='nearest', cmap=cmap)\n",
    "    plt.title(title)\n",
    "    plt.colorbar()\n",
    "    tick_marks = np.arange(len(classes))\n",
    "    plt.xticks(tick_marks, classes, rotation=45)\n",
    "    plt.yticks(tick_marks, classes)\n",
    "\n",
    "    if normalize:\n",
    "        cm = cm.astype('float') / cm.sum(axis=1)[:, np.newaxis]\n",
    "\n",
    "    thresh = cm.max() / 2.\n",
    "    for i, j in itertools.product(range(cm.shape[0]), range(cm.shape[1])):\n",
    "        plt.text(j, i, cm[i, j],\n",
    "                 horizontalalignment=\"center\",\n",
    "                 color=\"white\" if cm[i, j] > thresh else \"black\")\n",
    "\n",
    "    plt.tight_layout()\n",
    "    plt.ylabel('True label')\n",
    "    plt.xlabel('Predicted label')"
   ]
  },
  {
   "cell_type": "markdown",
   "id": "4d851642",
   "metadata": {
    "papermill": {
     "duration": 0.007059,
     "end_time": "2022-07-01T00:26:48.870489",
     "exception": false,
     "start_time": "2022-07-01T00:26:48.863430",
     "status": "completed"
    },
    "tags": []
   },
   "source": [
    "# Using Random Forest Classifier as the Model and printing evaluating it using confusion matrix"
   ]
  },
  {
   "cell_type": "code",
   "execution_count": 13,
   "id": "37fd2597",
   "metadata": {
    "execution": {
     "iopub.execute_input": "2022-07-01T00:26:48.886343Z",
     "iopub.status.busy": "2022-07-01T00:26:48.885829Z",
     "iopub.status.idle": "2022-07-01T00:26:49.347499Z",
     "shell.execute_reply": "2022-07-01T00:26:49.346789Z"
    },
    "papermill": {
     "duration": 0.471456,
     "end_time": "2022-07-01T00:26:49.349219",
     "exception": false,
     "start_time": "2022-07-01T00:26:48.877763",
     "status": "completed"
    },
    "tags": []
   },
   "outputs": [
    {
     "name": "stdout",
     "output_type": "stream",
     "text": [
      "accuracy is:  0.8384667114996638\n"
     ]
    },
    {
     "data": {
      "text/plain": [
       "['rf.joblib']"
      ]
     },
     "execution_count": 13,
     "metadata": {},
     "output_type": "execute_result"
    },
    {
     "data": {
      "image/png": "[encoded data removed]",
      "text/plain": [
       "<Figure size 432x288 with 2 Axes>"
      ]
     },
     "metadata": {
      "needs_background": "light"
     },
     "output_type": "display_data"
    }
   ],
   "source": [
    "clf = RandomForestClassifier(n_estimators=10)\n",
    "clf = clf.fit(X_train, y_train)\n",
    "y_pred = clf.predict(X_test)\n",
    "accuracy = accuracy_score(y_test, y_pred)\n",
    "print(\"accuracy is: \",accuracy)\n",
    "CM = confusion_matrix(y_test, y_pred)\n",
    "plot_confusion_matrix(CM, classes = range(3))\n",
    "dump(clf, 'rf.joblib') "
   ]
  },
  {
   "cell_type": "markdown",
   "id": "433f4ace",
   "metadata": {
    "papermill": {
     "duration": 0.00763,
     "end_time": "2022-07-01T00:26:49.365264",
     "exception": false,
     "start_time": "2022-07-01T00:26:49.357634",
     "status": "completed"
    },
    "tags": []
   },
   "source": [
    "# Using Decision tree as the Model and printing evaluating it using confusion matrix"
   ]
  },
  {
   "cell_type": "code",
   "execution_count": 14,
   "id": "239945e3",
   "metadata": {
    "execution": {
     "iopub.execute_input": "2022-07-01T00:26:49.382488Z",
     "iopub.status.busy": "2022-07-01T00:26:49.381855Z",
     "iopub.status.idle": "2022-07-01T00:26:49.742599Z",
     "shell.execute_reply": "2022-07-01T00:26:49.741776Z"
    },
    "papermill": {
     "duration": 0.371327,
     "end_time": "2022-07-01T00:26:49.744519",
     "exception": false,
     "start_time": "2022-07-01T00:26:49.373192",
     "status": "completed"
    },
    "tags": []
   },
   "outputs": [
    {
     "name": "stdout",
     "output_type": "stream",
     "text": [
      "accuracy is:  0.8236718224613315\n"
     ]
    },
    {
     "data": {
      "text/plain": [
       "['decision.joblib']"
      ]
     },
     "execution_count": 14,
     "metadata": {},
     "output_type": "execute_result"
    },
    {
     "data": {
      "image/png": "[encoded data removed]",
      "text/plain": [
       "<Figure size 432x288 with 2 Axes>"
      ]
     },
     "metadata": {
      "needs_background": "light"
     },
     "output_type": "display_data"
    }
   ],
   "source": [
    "clf = tree.DecisionTreeClassifier()\n",
    "clf = clf.fit(X_train, y_train)\n",
    "y_pred = clf.predict(X_test)\n",
    "accuracy = accuracy_score(y_test, y_pred)\n",
    "print(\"accuracy is: \",accuracy)\n",
    "CM = confusion_matrix(y_test, y_pred)\n",
    "plot_confusion_matrix(CM, classes = range(3))\n",
    "dump(clf, 'decision.joblib') "
   ]
  },
  {
   "cell_type": "markdown",
   "id": "61f29096",
   "metadata": {
    "papermill": {
     "duration": 0.008495,
     "end_time": "2022-07-01T00:26:49.761528",
     "exception": false,
     "start_time": "2022-07-01T00:26:49.753033",
     "status": "completed"
    },
    "tags": []
   },
   "source": [
    "# Using AdaBoost Classifier as the Model and printing evaluating it using confusion matrix"
   ]
  },
  {
   "cell_type": "code",
   "execution_count": 15,
   "id": "1240e8b2",
   "metadata": {
    "execution": {
     "iopub.execute_input": "2022-07-01T00:26:49.779364Z",
     "iopub.status.busy": "2022-07-01T00:26:49.778694Z",
     "iopub.status.idle": "2022-07-01T00:26:51.826221Z",
     "shell.execute_reply": "2022-07-01T00:26:51.825414Z"
    },
    "papermill": {
     "duration": 2.058735,
     "end_time": "2022-07-01T00:26:51.828500",
     "exception": false,
     "start_time": "2022-07-01T00:26:49.769765",
     "status": "completed"
    },
    "tags": []
   },
   "outputs": [
    {
     "name": "stdout",
     "output_type": "stream",
     "text": [
      "accuracy is:  0.8468056489576328\n"
     ]
    },
    {
     "data": {
      "text/plain": [
       "['ada.joblib']"
      ]
     },
     "execution_count": 15,
     "metadata": {},
     "output_type": "execute_result"
    },
    {
     "data": {
      "image/png": "[encoded data removed]",
      "text/plain": [
       "<Figure size 432x288 with 2 Axes>"
      ]
     },
     "metadata": {
      "needs_background": "light"
     },
     "output_type": "display_data"
    }
   ],
   "source": [
    "clf = AdaBoostClassifier(n_estimators=100)\n",
    "clf = clf.fit(X_train, y_train)\n",
    "y_pred = clf.predict(X_test)\n",
    "accuracy = accuracy_score(y_test, y_pred)\n",
    "print(\"accuracy is: \",accuracy)\n",
    "CM = confusion_matrix(y_test, y_pred)\n",
    "plot_confusion_matrix(CM, classes = range(3))\n",
    "dump(clf, 'ada.joblib') "
   ]
  },
  {
   "cell_type": "markdown",
   "id": "17a02bff",
   "metadata": {
    "papermill": {
     "duration": 0.013715,
     "end_time": "2022-07-01T00:26:51.857360",
     "exception": false,
     "start_time": "2022-07-01T00:26:51.843645",
     "status": "completed"
    },
    "tags": []
   },
   "source": [
    "# Converting the labels into categorical format"
   ]
  },
  {
   "cell_type": "code",
   "execution_count": 16,
   "id": "6150ad04",
   "metadata": {
    "execution": {
     "iopub.execute_input": "2022-07-01T00:26:51.887130Z",
     "iopub.status.busy": "2022-07-01T00:26:51.886636Z",
     "iopub.status.idle": "2022-07-01T00:26:51.892147Z",
     "shell.execute_reply": "2022-07-01T00:26:51.891473Z"
    },
    "papermill": {
     "duration": 0.024112,
     "end_time": "2022-07-01T00:26:51.895421",
     "exception": false,
     "start_time": "2022-07-01T00:26:51.871309",
     "status": "completed"
    },
    "tags": []
   },
   "outputs": [],
   "source": [
    "y_train=to_categorical(y_train, num_classes = 3, dtype='float32')\n",
    "y_test=to_categorical(y_test, num_classes = 3, dtype='float32')"
   ]
  },
  {
   "cell_type": "markdown",
   "id": "d5dbdb7f",
   "metadata": {
    "papermill": {
     "duration": 0.013761,
     "end_time": "2022-07-01T00:26:51.923816",
     "exception": false,
     "start_time": "2022-07-01T00:26:51.910055",
     "status": "completed"
    },
    "tags": []
   },
   "source": [
    "# Creating and Training an LSTM Model"
   ]
  },
  {
   "cell_type": "code",
   "execution_count": 17,
   "id": "e0a8237a",
   "metadata": {
    "execution": {
     "iopub.execute_input": "2022-07-01T00:26:51.953542Z",
     "iopub.status.busy": "2022-07-01T00:26:51.953019Z",
     "iopub.status.idle": "2022-07-01T01:04:18.930918Z",
     "shell.execute_reply": "2022-07-01T01:04:18.930056Z"
    },
    "papermill": {
     "duration": 2246.995481,
     "end_time": "2022-07-01T01:04:18.933124",
     "exception": false,
     "start_time": "2022-07-01T00:26:51.937643",
     "status": "completed"
    },
    "tags": []
   },
   "outputs": [
    {
     "name": "stderr",
     "output_type": "stream",
     "text": [
      "2022-07-01 00:26:52.068397: I tensorflow/stream_executor/cuda/cuda_gpu_executor.cc:937] successful NUMA node read from SysFS had negative value (-1), but there must be at least one NUMA node, so returning NUMA node zero\n",
      "2022-07-01 00:26:52.206880: I tensorflow/stream_executor/cuda/cuda_gpu_executor.cc:937] successful NUMA node read from SysFS had negative value (-1), but there must be at least one NUMA node, so returning NUMA node zero\n",
      "2022-07-01 00:26:52.207664: I tensorflow/stream_executor/cuda/cuda_gpu_executor.cc:937] successful NUMA node read from SysFS had negative value (-1), but there must be at least one NUMA node, so returning NUMA node zero\n",
      "2022-07-01 00:26:52.208799: I tensorflow/core/platform/cpu_feature_guard.cc:142] This TensorFlow binary is optimized with oneAPI Deep Neural Network Library (oneDNN) to use the following CPU instructions in performance-critical operations:  AVX2 AVX512F FMA\n",
      "To enable them in other operations, rebuild TensorFlow with the appropriate compiler flags.\n",
      "2022-07-01 00:26:52.209101: I tensorflow/stream_executor/cuda/cuda_gpu_executor.cc:937] successful NUMA node read from SysFS had negative value (-1), but there must be at least one NUMA node, so returning NUMA node zero\n",
      "2022-07-01 00:26:52.209794: I tensorflow/stream_executor/cuda/cuda_gpu_executor.cc:937] successful NUMA node read from SysFS had negative value (-1), but there must be at least one NUMA node, so returning NUMA node zero\n",
      "2022-07-01 00:26:52.210432: I tensorflow/stream_executor/cuda/cuda_gpu_executor.cc:937] successful NUMA node read from SysFS had negative value (-1), but there must be at least one NUMA node, so returning NUMA node zero\n",
      "2022-07-01 00:26:54.182457: I tensorflow/stream_executor/cuda/cuda_gpu_executor.cc:937] successful NUMA node read from SysFS had negative value (-1), but there must be at least one NUMA node, so returning NUMA node zero\n",
      "2022-07-01 00:26:54.183340: I tensorflow/stream_executor/cuda/cuda_gpu_executor.cc:937] successful NUMA node read from SysFS had negative value (-1), but there must be at least one NUMA node, so returning NUMA node zero\n",
      "2022-07-01 00:26:54.184032: I tensorflow/stream_executor/cuda/cuda_gpu_executor.cc:937] successful NUMA node read from SysFS had negative value (-1), but there must be at least one NUMA node, so returning NUMA node zero\n",
      "2022-07-01 00:26:54.184609: I tensorflow/core/common_runtime/gpu/gpu_device.cc:1510] Created device /job:localhost/replica:0/task:0/device:GPU:0 with 15403 MB memory:  -> device: 0, name: Tesla P100-PCIE-16GB, pci bus id: 0000:00:04.0, compute capability: 6.0\n",
      "2022-07-01 00:26:54.742342: I tensorflow/compiler/mlir/mlir_graph_optimization_pass.cc:185] None of the MLIR Optimization Passes are enabled (registered 2)\n"
     ]
    },
    {
     "name": "stdout",
     "output_type": "stream",
     "text": [
      "Epoch 1/25\n",
      "272/272 [==============================] - 90s 320ms/step - loss: 0.4264 - accuracy: 0.7682 - val_loss: 0.4022 - val_accuracy: 0.7743\n",
      "Epoch 2/25\n",
      "272/272 [==============================] - 86s 317ms/step - loss: 0.4023 - accuracy: 0.7743 - val_loss: 0.4024 - val_accuracy: 0.7743\n",
      "Epoch 3/25\n",
      "272/272 [==============================] - 87s 320ms/step - loss: 0.4019 - accuracy: 0.7743 - val_loss: 0.4014 - val_accuracy: 0.7743\n",
      "Epoch 4/25\n",
      "272/272 [==============================] - 87s 319ms/step - loss: 0.4015 - accuracy: 0.7743 - val_loss: 0.4012 - val_accuracy: 0.7743\n",
      "Epoch 5/25\n",
      "272/272 [==============================] - 87s 320ms/step - loss: 0.4014 - accuracy: 0.7743 - val_loss: 0.4005 - val_accuracy: 0.7743\n",
      "Epoch 6/25\n",
      "272/272 [==============================] - 87s 318ms/step - loss: 0.4000 - accuracy: 0.7743 - val_loss: 0.3972 - val_accuracy: 0.7743\n",
      "Epoch 7/25\n",
      "272/272 [==============================] - 88s 324ms/step - loss: 0.3949 - accuracy: 0.7743 - val_loss: 0.3936 - val_accuracy: 0.7743\n",
      "Epoch 8/25\n",
      "272/272 [==============================] - 87s 320ms/step - loss: 0.3924 - accuracy: 0.7743 - val_loss: 0.3884 - val_accuracy: 0.7743\n",
      "Epoch 9/25\n",
      "272/272 [==============================] - 87s 319ms/step - loss: 0.3909 - accuracy: 0.7743 - val_loss: 0.3868 - val_accuracy: 0.7743\n",
      "Epoch 10/25\n",
      "272/272 [==============================] - 87s 318ms/step - loss: 0.3885 - accuracy: 0.7745 - val_loss: 0.3623 - val_accuracy: 0.7820\n",
      "Epoch 11/25\n",
      "272/272 [==============================] - 88s 321ms/step - loss: 0.3705 - accuracy: 0.7835 - val_loss: 0.3531 - val_accuracy: 0.7900\n",
      "Epoch 12/25\n",
      "272/272 [==============================] - 88s 325ms/step - loss: 0.3563 - accuracy: 0.7863 - val_loss: 0.3462 - val_accuracy: 0.7915\n",
      "Epoch 13/25\n",
      "272/272 [==============================] - 87s 321ms/step - loss: 0.3496 - accuracy: 0.7884 - val_loss: 0.3393 - val_accuracy: 0.7913\n",
      "Epoch 14/25\n",
      "272/272 [==============================] - 87s 321ms/step - loss: 0.3440 - accuracy: 0.7931 - val_loss: 0.3449 - val_accuracy: 0.7965\n",
      "Epoch 15/25\n",
      "272/272 [==============================] - 88s 322ms/step - loss: 0.3375 - accuracy: 0.7916 - val_loss: 0.3290 - val_accuracy: 0.8012\n",
      "Epoch 16/25\n",
      "272/272 [==============================] - 87s 319ms/step - loss: 0.3344 - accuracy: 0.7934 - val_loss: 0.3313 - val_accuracy: 0.7962\n",
      "Epoch 17/25\n",
      "272/272 [==============================] - 89s 326ms/step - loss: 0.3334 - accuracy: 0.7895 - val_loss: 0.3353 - val_accuracy: 0.7899\n",
      "Epoch 18/25\n",
      "272/272 [==============================] - 88s 325ms/step - loss: 0.3296 - accuracy: 0.7976 - val_loss: 0.3274 - val_accuracy: 0.7935\n",
      "Epoch 19/25\n",
      "272/272 [==============================] - 88s 322ms/step - loss: 0.3308 - accuracy: 0.7940 - val_loss: 0.3262 - val_accuracy: 0.8023\n",
      "Epoch 20/25\n",
      "272/272 [==============================] - 88s 324ms/step - loss: 0.3271 - accuracy: 0.7976 - val_loss: 0.3249 - val_accuracy: 0.7992\n",
      "Epoch 21/25\n",
      "272/272 [==============================] - 89s 326ms/step - loss: 0.3252 - accuracy: 0.7978 - val_loss: 0.3250 - val_accuracy: 0.7966\n",
      "Epoch 22/25\n",
      "272/272 [==============================] - 86s 318ms/step - loss: 0.3278 - accuracy: 0.7935 - val_loss: 0.3235 - val_accuracy: 0.7988\n",
      "Epoch 23/25\n",
      "272/272 [==============================] - 88s 321ms/step - loss: 0.3243 - accuracy: 0.7945 - val_loss: 0.3243 - val_accuracy: 0.7958\n",
      "Epoch 24/25\n",
      "272/272 [==============================] - 89s 326ms/step - loss: 0.3247 - accuracy: 0.7971 - val_loss: 0.3253 - val_accuracy: 0.8009\n",
      "Epoch 25/25\n",
      "272/272 [==============================] - 88s 322ms/step - loss: 0.3257 - accuracy: 0.7976 - val_loss: 0.3252 - val_accuracy: 0.7988\n"
     ]
    }
   ],
   "source": [
    "model = Sequential()\n",
    "model.add(Embedding(232337, 100, input_length=X_train.shape[1]))\n",
    "model.add(SpatialDropout1D(0.2))\n",
    "model.add(LSTM(20, dropout=0.2, recurrent_dropout=0.2))\n",
    "model.add(Dense(3, activation='softmax'))\n",
    "model.compile(loss='binary_crossentropy', optimizer='adam', metrics=['accuracy'])\n",
    "\n",
    "epochs = 25\n",
    "batch_size = 64\n",
    "\n",
    "history = model.fit(X_train, y_train,validation_data = (X_test,y_test), epochs=epochs, batch_size=batch_size)"
   ]
  },
  {
   "cell_type": "code",
   "execution_count": 18,
   "id": "7d6229c5",
   "metadata": {
    "execution": {
     "iopub.execute_input": "2022-07-01T01:04:19.820086Z",
     "iopub.status.busy": "2022-07-01T01:04:19.819716Z",
     "iopub.status.idle": "2022-07-01T01:04:20.185155Z",
     "shell.execute_reply": "2022-07-01T01:04:20.184407Z"
    },
    "papermill": {
     "duration": 0.783346,
     "end_time": "2022-07-01T01:04:20.187004",
     "exception": false,
     "start_time": "2022-07-01T01:04:19.403658",
     "status": "completed"
    },
    "tags": []
   },
   "outputs": [
    {
     "data": {
      "image/png": "[encoded data removed]",
      "text/plain": [
       "<Figure size 432x288 with 1 Axes>"
      ]
     },
     "metadata": {
      "needs_background": "light"
     },
     "output_type": "display_data"
    },
    {
     "data": {
      "image/png": "[encoded data removed]",
      "text/plain": [
       "<Figure size 432x288 with 1 Axes>"
      ]
     },
     "metadata": {
      "needs_background": "light"
     },
     "output_type": "display_data"
    }
   ],
   "source": [
    "acc = history.history['accuracy']\n",
    "val_acc = history.history['val_accuracy']\n",
    "loss = history.history['loss']\n",
    "val_loss = history.history['val_loss']\n",
    "epochs = range(1, len(acc) + 1)\n",
    "plt.plot(epochs, acc, 'bo', label='Training accuracy')\n",
    "plt.plot(epochs, val_acc, 'r', label='Validation accuracy')\n",
    "plt.title('Training and validation accuracy')\n",
    "plt.legend()\n",
    "plt.figure()\n",
    "plt.plot(epochs, loss, 'bo', label='Training loss')\n",
    "plt.plot(epochs, val_loss, 'r', label='Validation loss')\n",
    "plt.title('Training and validation loss')\n",
    "plt.legend()\n",
    "plt.show()"
   ]
  },
  {
   "cell_type": "markdown",
   "id": "28447cde",
   "metadata": {
    "papermill": {
     "duration": 0.416405,
     "end_time": "2022-07-01T01:04:21.019379",
     "exception": false,
     "start_time": "2022-07-01T01:04:20.602974",
     "status": "completed"
    },
    "tags": []
   },
   "source": [
    "# Saving the LSTM Model"
   ]
  },
  {
   "cell_type": "code",
   "execution_count": 19,
   "id": "e9ad5652",
   "metadata": {
    "execution": {
     "iopub.execute_input": "2022-07-01T01:04:21.900928Z",
     "iopub.status.busy": "2022-07-01T01:04:21.900569Z",
     "iopub.status.idle": "2022-07-01T01:04:22.441055Z",
     "shell.execute_reply": "2022-07-01T01:04:22.440243Z"
    },
    "papermill": {
     "duration": 0.955905,
     "end_time": "2022-07-01T01:04:22.443221",
     "exception": false,
     "start_time": "2022-07-01T01:04:21.487316",
     "status": "completed"
    },
    "tags": []
   },
   "outputs": [],
   "source": [
    "model.save('lstm.h5')"
   ]
  }
 ],
 "metadata": {
  "kernelspec": {
   "display_name": "Python 3",
   "language": "python",
   "name": "python3"
  },
  "language_info": {
   "codemirror_mode": {
    "name": "ipython",
    "version": 3
   },
   "file_extension": ".py",
   "mimetype": "text/x-python",
   "name": "python",
   "nbconvert_exporter": "python",
   "pygments_lexer": "ipython3",
   "version": "3.7.12"
  },
  "papermill": {
   "default_parameters": {},
   "duration": 2287.320086,
   "end_time": "2022-07-01T01:04:26.432752",
   "environment_variables": {},
   "exception": null,
   "input_path": "__notebook__.ipynb",
   "output_path": "__notebook__.ipynb",
   "parameters": {},
   "start_time": "2022-07-01T00:26:19.112666",
   "version": "2.3.4"
  }
 },
 "nbformat": 4,
 "nbformat_minor": 5
}
